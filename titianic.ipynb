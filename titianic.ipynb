{
 "cells": [
  {
   "cell_type": "code",
   "execution_count": 1,
   "id": "8f0a73a1",
   "metadata": {
    "_cell_guid": "b1076dfc-b9ad-4769-8c92-a6c4dae69d19",
    "_uuid": "8f2839f25d086af736a60e9eeb907d3b93b6e0e5",
    "execution": {
     "iopub.execute_input": "2023-01-06T04:29:34.699455Z",
     "iopub.status.busy": "2023-01-06T04:29:34.698933Z",
     "iopub.status.idle": "2023-01-06T04:29:34.712970Z",
     "shell.execute_reply": "2023-01-06T04:29:34.711987Z"
    },
    "papermill": {
     "duration": 0.027103,
     "end_time": "2023-01-06T04:29:34.715910",
     "exception": false,
     "start_time": "2023-01-06T04:29:34.688807",
     "status": "completed"
    },
    "tags": []
   },
   "outputs": [
    {
     "name": "stdout",
     "output_type": "stream",
     "text": [
      "/kaggle/input/titanic/train.csv\n",
      "/kaggle/input/titanic/test.csv\n",
      "/kaggle/input/titanic/gender_submission.csv\n"
     ]
    }
   ],
   "source": [
    "# This Python 3 environment comes with many helpful analytics libraries installed\n",
    "# It is defined by the kaggle/python Docker image: https://github.com/kaggle/docker-python\n",
    "# For example, here's several helpful packages to load\n",
    "\n",
    "import numpy as np # linear algebra\n",
    "import pandas as pd # data processing, CSV file I/O (e.g. pd.read_csv)\n",
    "\n",
    "# Input data files are available in the read-only \"../input/\" directory\n",
    "# For example, running this (by clicking run or pressing Shift+Enter) will list all files under the input directory\n",
    "\n",
    "import os\n",
    "for dirname, _, filenames in os.walk('/kaggle/input'):\n",
    "    for filename in filenames:\n",
    "        print(os.path.join(dirname, filename))\n",
    "\n",
    "# You can write up to 20GB to the current directory (/kaggle/working/) that gets preserved as output when you create a version using \"Save & Run All\" \n",
    "# You can also write temporary files to /kaggle/temp/, but they won't be saved outside of the current session"
   ]
  },
  {
   "cell_type": "markdown",
   "id": "6326b37a",
   "metadata": {
    "papermill": {
     "duration": 0.006351,
     "end_time": "2023-01-06T04:29:34.729273",
     "exception": false,
     "start_time": "2023-01-06T04:29:34.722922",
     "status": "completed"
    },
    "tags": []
   },
   "source": [
    "# Import necessery libraries"
   ]
  },
  {
   "cell_type": "code",
   "execution_count": 2,
   "id": "b04a71ba",
   "metadata": {
    "execution": {
     "iopub.execute_input": "2023-01-06T04:29:34.745875Z",
     "iopub.status.busy": "2023-01-06T04:29:34.744868Z",
     "iopub.status.idle": "2023-01-06T04:29:36.969831Z",
     "shell.execute_reply": "2023-01-06T04:29:36.968133Z"
    },
    "papermill": {
     "duration": 2.236452,
     "end_time": "2023-01-06T04:29:36.973038",
     "exception": false,
     "start_time": "2023-01-06T04:29:34.736586",
     "status": "completed"
    },
    "tags": []
   },
   "outputs": [],
   "source": [
    "import os\n",
    "import torch\n",
    "from torch import nn,optim\n",
    "from torch.utils.data import Dataset,DataLoader\n",
    "import matplotlib.pyplot as plt"
   ]
  },
  {
   "cell_type": "markdown",
   "id": "bcb0b884",
   "metadata": {
    "papermill": {
     "duration": 0.009422,
     "end_time": "2023-01-06T04:29:36.992192",
     "exception": false,
     "start_time": "2023-01-06T04:29:36.982770",
     "status": "completed"
    },
    "tags": []
   },
   "source": [
    "# Data PreProcessing"
   ]
  },
  {
   "cell_type": "code",
   "execution_count": 3,
   "id": "02451b64",
   "metadata": {
    "execution": {
     "iopub.execute_input": "2023-01-06T04:29:37.008200Z",
     "iopub.status.busy": "2023-01-06T04:29:37.007578Z",
     "iopub.status.idle": "2023-01-06T04:29:37.066490Z",
     "shell.execute_reply": "2023-01-06T04:29:37.064817Z"
    },
    "papermill": {
     "duration": 0.07029,
     "end_time": "2023-01-06T04:29:37.069386",
     "exception": false,
     "start_time": "2023-01-06T04:29:36.999096",
     "status": "completed"
    },
    "tags": []
   },
   "outputs": [],
   "source": [
    "from torch.utils.data import TensorDataset,DataLoader\n",
    "directory=\"/kaggle/input/titanic/\"\n",
    "csv_file='train.csv'\n",
    "csv_path=os.path.join(directory,csv_file)\n",
    "train_data=pd.read_csv(csv_path)\n",
    "train=train_data.drop(['PassengerId','Name','Ticket','Cabin'],axis=1)\n",
    "train.dropna(axis=0, inplace=True)\n",
    "train= pd.get_dummies(train,columns=['Pclass','Sex','SibSp','Parch','Embarked'])\n",
    "X=train.drop(['Survived'],axis=1)\n",
    "X=torch.tensor(X.values.astype(np.float32))\n",
    "Y=torch.tensor(train['Survived'].values.astype(np.float32))\n",
    "Y=Y.reshape([-1, 1])\n",
    "dataset=TensorDataset(X,Y)\n",
    "trainloader=DataLoader(dataset,batch_size=100,shuffle=False)"
   ]
  },
  {
   "cell_type": "markdown",
   "id": "77913e3a",
   "metadata": {
    "papermill": {
     "duration": 0.00788,
     "end_time": "2023-01-06T04:29:37.083974",
     "exception": false,
     "start_time": "2023-01-06T04:29:37.076094",
     "status": "completed"
    },
    "tags": []
   },
   "source": [
    "# Defing The NeuralNetwork Class "
   ]
  },
  {
   "cell_type": "code",
   "execution_count": 4,
   "id": "bd91d49d",
   "metadata": {
    "execution": {
     "iopub.execute_input": "2023-01-06T04:29:37.099450Z",
     "iopub.status.busy": "2023-01-06T04:29:37.099029Z",
     "iopub.status.idle": "2023-01-06T04:29:37.107085Z",
     "shell.execute_reply": "2023-01-06T04:29:37.105581Z"
    },
    "papermill": {
     "duration": 0.019412,
     "end_time": "2023-01-06T04:29:37.110100",
     "exception": false,
     "start_time": "2023-01-06T04:29:37.090688",
     "status": "completed"
    },
    "tags": []
   },
   "outputs": [],
   "source": [
    "class Model(nn.Module):\n",
    "    def __init__(self):\n",
    "        super(Model,self).__init__()\n",
    "        self.NN=nn.Sequential(nn.Linear(23,50),nn.Tanh(),\n",
    "                              nn.Linear(50,100),nn.Tanh(),\n",
    "                              nn.Linear(100,10),nn.Tanh(),\n",
    "                              nn.Linear(10,1),nn.Sigmoid())\n",
    "    def forward(self,x):\n",
    "        yhat=self.NN(torch.Tensor(x))\n",
    "        return yhat\n"
   ]
  },
  {
   "cell_type": "markdown",
   "id": "fd90d564",
   "metadata": {
    "papermill": {
     "duration": 0.008099,
     "end_time": "2023-01-06T04:29:37.124977",
     "exception": false,
     "start_time": "2023-01-06T04:29:37.116878",
     "status": "completed"
    },
    "tags": []
   },
   "source": [
    "# Training the first virsion of the model"
   ]
  },
  {
   "cell_type": "code",
   "execution_count": 5,
   "id": "cfa87ab6",
   "metadata": {
    "execution": {
     "iopub.execute_input": "2023-01-06T04:29:37.141886Z",
     "iopub.status.busy": "2023-01-06T04:29:37.141461Z",
     "iopub.status.idle": "2023-01-06T04:30:01.343643Z",
     "shell.execute_reply": "2023-01-06T04:30:01.342242Z"
    },
    "papermill": {
     "duration": 24.213796,
     "end_time": "2023-01-06T04:30:01.346726",
     "exception": false,
     "start_time": "2023-01-06T04:29:37.132930",
     "status": "completed"
    },
    "tags": []
   },
   "outputs": [
    {
     "name": "stderr",
     "output_type": "stream",
     "text": [
      " 73%|███████▎  | 1467/2000 [00:23<00:08, 61.44it/s]\n"
     ]
    },
    {
     "name": "stdout",
     "output_type": "stream",
     "text": [
      "tensor(0.0045, grad_fn=<BinaryCrossEntropyBackward0>)\n"
     ]
    },
    {
     "data": {
      "image/png": "[encoded data removed]",
      "text/plain": [
       "<Figure size 432x288 with 1 Axes>"
      ]
     },
     "metadata": {
      "needs_background": "light"
     },
     "output_type": "display_data"
    }
   ],
   "source": [
    "from tqdm import tqdm\n",
    "model=Model()\n",
    "torch.manual_seed(1)\n",
    "criterion=nn.BCELoss()\n",
    "losses=[]\n",
    "num_iterations=2000\n",
    "optimizer=optim.Adam(model.parameters(),lr=0.005)\n",
    "loss=0\n",
    "for i in tqdm(range(num_iterations)):\n",
    "    for x,y in trainloader:\n",
    "        yhat=model(x)\n",
    "        loss=criterion(yhat,y)\n",
    "        optimizer.zero_grad()\n",
    "        loss.backward()\n",
    "        optimizer.step()\n",
    "    losses.append(loss)\n",
    "    if loss<=0.005:\n",
    "        break\n",
    "plt.plot(torch.tensor(losses).numpy())\n",
    "plt.xlabel('num_iterations')\n",
    "print(losses[-1])"
   ]
  },
  {
   "cell_type": "markdown",
   "id": "a58ea955",
   "metadata": {
    "papermill": {
     "duration": 0.020752,
     "end_time": "2023-01-06T04:30:01.388783",
     "exception": false,
     "start_time": "2023-01-06T04:30:01.368031",
     "status": "completed"
    },
    "tags": []
   },
   "source": [
    "# Processing the test data"
   ]
  },
  {
   "cell_type": "code",
   "execution_count": 6,
   "id": "e15a4a49",
   "metadata": {
    "execution": {
     "iopub.execute_input": "2023-01-06T04:30:01.432813Z",
     "iopub.status.busy": "2023-01-06T04:30:01.431924Z",
     "iopub.status.idle": "2023-01-06T04:30:01.504966Z",
     "shell.execute_reply": "2023-01-06T04:30:01.503893Z"
    },
    "papermill": {
     "duration": 0.097119,
     "end_time": "2023-01-06T04:30:01.507659",
     "exception": false,
     "start_time": "2023-01-06T04:30:01.410540",
     "status": "completed"
    },
    "tags": []
   },
   "outputs": [],
   "source": [
    "csv_file='test.csv'\n",
    "csv_path=os.path.join(directory,csv_file)\n",
    "test_data=pd.read_csv(csv_path)\n",
    "test=train_data.drop(['Name','Ticket','Cabin'],axis=1)\n",
    "csv_file='gender_submission.csv'\n",
    "csv_path=os.path.join(directory,csv_file)\n",
    "test_labels=pd.read_csv(csv_path)\n",
    "test=pd.concat([test,test_labels])\n",
    "test= pd.get_dummies(test,columns=[ 'Pclass','Sex','SibSp','Parch','Embarked'])\n",
    "test=test.drop('SibSp_8.0',axis=1)\n",
    "test=test.dropna(axis=0)\n",
    "X=test.drop(['Survived','PassengerId'],axis=1)\n",
    "X=torch.tensor(X.values.astype(np.float32))\n",
    "Y=torch.tensor(test['Survived'].values.astype(np.float32))\n",
    "Y=Y.reshape([-1, 1])\n",
    "dataset=TensorDataset(X,Y)\n",
    "testloader=DataLoader(dataset,batch_size=100,shuffle=False)"
   ]
  },
  {
   "cell_type": "markdown",
   "id": "c25cea0c",
   "metadata": {
    "papermill": {
     "duration": 0.020635,
     "end_time": "2023-01-06T04:30:01.548810",
     "exception": false,
     "start_time": "2023-01-06T04:30:01.528175",
     "status": "completed"
    },
    "tags": []
   },
   "source": [
    "# Testing the model on the validation dataset"
   ]
  },
  {
   "cell_type": "markdown",
   "id": "2aecb154",
   "metadata": {
    "papermill": {
     "duration": 0.020354,
     "end_time": "2023-01-06T04:30:01.591490",
     "exception": false,
     "start_time": "2023-01-06T04:30:01.571136",
     "status": "completed"
    },
    "tags": []
   },
   "source": [
    "**note we took half of thee testing data as a validation set"
   ]
  },
  {
   "cell_type": "code",
   "execution_count": 7,
   "id": "693cd0dc",
   "metadata": {
    "execution": {
     "iopub.execute_input": "2023-01-06T04:30:01.641518Z",
     "iopub.status.busy": "2023-01-06T04:30:01.639736Z",
     "iopub.status.idle": "2023-01-06T04:30:01.660734Z",
     "shell.execute_reply": "2023-01-06T04:30:01.659650Z"
    },
    "papermill": {
     "duration": 0.052253,
     "end_time": "2023-01-06T04:30:01.665495",
     "exception": false,
     "start_time": "2023-01-06T04:30:01.613242",
     "status": "completed"
    },
    "tags": []
   },
   "outputs": [
    {
     "name": "stdout",
     "output_type": "stream",
     "text": [
      "tensor(0.1122, grad_fn=<BinaryCrossEntropyBackward0>)\n"
     ]
    }
   ],
   "source": [
    "for i,epoch in enumerate(testloader):\n",
    "    x,y=epoch\n",
    "    if i==0:\n",
    "        yhat=model(x)\n",
    "    else:\n",
    "        yhat=torch.cat((yhat,model(x)),dim=0)\n",
    "loss=criterion(yhat[357:715],Y[357:715])\n",
    "print(loss)\n"
   ]
  },
  {
   "cell_type": "markdown",
   "id": "5297317c",
   "metadata": {
    "papermill": {
     "duration": 0.019982,
     "end_time": "2023-01-06T04:30:01.706214",
     "exception": false,
     "start_time": "2023-01-06T04:30:01.686232",
     "status": "completed"
    },
    "tags": []
   },
   "source": [
    "# Improving the model by changing the Hyperparameters & testing"
   ]
  },
  {
   "cell_type": "markdown",
   "id": "5205e334",
   "metadata": {
    "papermill": {
     "duration": 0.019545,
     "end_time": "2023-01-06T04:30:01.746188",
     "exception": false,
     "start_time": "2023-01-06T04:30:01.726643",
     "status": "completed"
    },
    "tags": []
   },
   "source": [
    "**1) Using Adamax Optimizer**"
   ]
  },
  {
   "cell_type": "code",
   "execution_count": 8,
   "id": "18d7bbb8",
   "metadata": {
    "execution": {
     "iopub.execute_input": "2023-01-06T04:30:01.789828Z",
     "iopub.status.busy": "2023-01-06T04:30:01.788709Z",
     "iopub.status.idle": "2023-01-06T04:30:36.814427Z",
     "shell.execute_reply": "2023-01-06T04:30:36.812955Z"
    },
    "papermill": {
     "duration": 35.049929,
     "end_time": "2023-01-06T04:30:36.817257",
     "exception": false,
     "start_time": "2023-01-06T04:30:01.767328",
     "status": "completed"
    },
    "tags": []
   },
   "outputs": [
    {
     "name": "stderr",
     "output_type": "stream",
     "text": [
      "100%|██████████| 2000/2000 [00:34<00:00, 57.56it/s]\n"
     ]
    },
    {
     "name": "stdout",
     "output_type": "stream",
     "text": [
      "tensor(0.0339, grad_fn=<BinaryCrossEntropyBackward0>)\n",
      "tensor(0.1463, grad_fn=<BinaryCrossEntropyBackward0>)\n"
     ]
    },
    {
     "data": {
      "image/png": "[encoded data removed]",
      "text/plain": [
       "<Figure size 432x288 with 1 Axes>"
      ]
     },
     "metadata": {
      "needs_background": "light"
     },
     "output_type": "display_data"
    }
   ],
   "source": [
    "from tqdm import tqdm\n",
    "model=Model()\n",
    "torch.manual_seed(1)\n",
    "criterion=nn.BCELoss()\n",
    "losses=[]\n",
    "num_iterations=2000\n",
    "optimizer=optim.Adamax(model.parameters(),lr=0.005)\n",
    "loss=0\n",
    "for i in tqdm(range(num_iterations)):\n",
    "    for x,y in trainloader:\n",
    "        yhat=model(x)\n",
    "        loss=criterion(yhat,y)\n",
    "        optimizer.zero_grad()\n",
    "        loss.backward()\n",
    "        optimizer.step()\n",
    "    losses.append(loss)\n",
    "    if loss<=0.02:\n",
    "        break\n",
    "plt.plot(torch.tensor(losses).numpy())\n",
    "plt.xlabel('num_iterations')\n",
    "print(losses[-1])\n",
    "for i,epoch in enumerate(testloader):\n",
    "    x,y=epoch\n",
    "    if i==0:\n",
    "        yhat=model(x)\n",
    "    else:\n",
    "        yhat=torch.cat((yhat,model(x)),dim=0)\n",
    "loss=criterion(yhat[357:715],Y[357:715])\n",
    "print(loss)"
   ]
  },
  {
   "cell_type": "markdown",
   "id": "b3bfde74",
   "metadata": {
    "papermill": {
     "duration": 0.042433,
     "end_time": "2023-01-06T04:30:36.899783",
     "exception": false,
     "start_time": "2023-01-06T04:30:36.857350",
     "status": "completed"
    },
    "tags": []
   },
   "source": [
    "**2) Using AdamW Optimizer**"
   ]
  },
  {
   "cell_type": "code",
   "execution_count": 9,
   "id": "65aad74c",
   "metadata": {
    "execution": {
     "iopub.execute_input": "2023-01-06T04:30:36.982638Z",
     "iopub.status.busy": "2023-01-06T04:30:36.981961Z",
     "iopub.status.idle": "2023-01-06T04:30:55.714554Z",
     "shell.execute_reply": "2023-01-06T04:30:55.713349Z"
    },
    "papermill": {
     "duration": 18.776897,
     "end_time": "2023-01-06T04:30:55.717317",
     "exception": false,
     "start_time": "2023-01-06T04:30:36.940420",
     "status": "completed"
    },
    "tags": []
   },
   "outputs": [
    {
     "name": "stderr",
     "output_type": "stream",
     "text": [
      " 53%|█████▎    | 1064/2000 [00:18<00:16, 57.65it/s]\n"
     ]
    },
    {
     "name": "stdout",
     "output_type": "stream",
     "text": [
      "tensor(0.0183, grad_fn=<BinaryCrossEntropyBackward0>)\n",
      "tensor(0.2023, grad_fn=<BinaryCrossEntropyBackward0>)\n"
     ]
    },
    {
     "data": {
      "image/png": "[encoded data removed]",
      "text/plain": [
       "<Figure size 432x288 with 1 Axes>"
      ]
     },
     "metadata": {
      "needs_background": "light"
     },
     "output_type": "display_data"
    }
   ],
   "source": [
    "from tqdm import tqdm\n",
    "model=Model()\n",
    "torch.manual_seed(1)\n",
    "criterion=nn.BCELoss()\n",
    "losses=[]\n",
    "num_iterations=2000\n",
    "optimizer=optim.AdamW(model.parameters(),lr=0.005)\n",
    "loss=0\n",
    "lrs = []\n",
    "#lambda1 = lambda epoch: 0.1 ** epoch\n",
    "#scheduler = torch.optim.lr_scheduler.LambdaLR(optimizer, lr_lambda=lambda1)\n",
    "for i in tqdm(range(num_iterations)):\n",
    "    for x,y in trainloader:\n",
    "        yhat=model(x)\n",
    "        loss=criterion(yhat,y)\n",
    "        optimizer.zero_grad()\n",
    "        loss.backward()\n",
    "        optimizer.step()\n",
    "        #scheduler.step()\n",
    "        #lrs.append(optimizer.param_groups[0][\"lr\"])\n",
    "    losses.append(loss)\n",
    "    if loss<=0.02:\n",
    "        break\n",
    "plt.plot(torch.tensor(losses).numpy())\n",
    "plt.xlabel('num_iterations')\n",
    "print(losses[-1])\n",
    "for i,epoch in enumerate(testloader):\n",
    "    x,y=epoch\n",
    "    if i==0:\n",
    "        yhat=model(x)\n",
    "    else:\n",
    "        yhat=torch.cat((yhat,model(x)),dim=0)\n",
    "loss=criterion(yhat[357:715],Y[357:715])\n",
    "print(loss)"
   ]
  },
  {
   "cell_type": "markdown",
   "id": "ce6b12ed",
   "metadata": {
    "papermill": {
     "duration": 0.050077,
     "end_time": "2023-01-06T04:30:55.818633",
     "exception": false,
     "start_time": "2023-01-06T04:30:55.768556",
     "status": "completed"
    },
    "tags": []
   },
   "source": [
    "Adam was the best optimizer when applying on the validation data"
   ]
  },
  {
   "cell_type": "markdown",
   "id": "0a26bea4",
   "metadata": {
    "papermill": {
     "duration": 0.048698,
     "end_time": "2023-01-06T04:30:55.919037",
     "exception": false,
     "start_time": "2023-01-06T04:30:55.870339",
     "status": "completed"
    },
    "tags": []
   },
   "source": [
    "**3) Trying different learning rates to select the best one**"
   ]
  },
  {
   "cell_type": "code",
   "execution_count": 10,
   "id": "25bddc71",
   "metadata": {
    "execution": {
     "iopub.execute_input": "2023-01-06T04:30:56.020586Z",
     "iopub.status.busy": "2023-01-06T04:30:56.019321Z",
     "iopub.status.idle": "2023-01-06T04:37:06.029601Z",
     "shell.execute_reply": "2023-01-06T04:37:06.028457Z"
    },
    "papermill": {
     "duration": 370.112844,
     "end_time": "2023-01-06T04:37:06.081147",
     "exception": false,
     "start_time": "2023-01-06T04:30:55.968303",
     "status": "completed"
    },
    "tags": []
   },
   "outputs": [
    {
     "name": "stdout",
     "output_type": "stream",
     "text": [
      "lr:0.001,trainloss:0.05838894471526146,validationloss:0.21138763427734375\n",
      "lr:0.002,trainloss:0.05384344235062599,validationloss:0.19186806678771973\n",
      "lr:0.003,trainloss:0.019529156386852264,validationloss:0.16083458065986633\n",
      "lr:0.004,trainloss:0.018486076965928078,validationloss:0.13836494088172913\n",
      "lr:0.005,trainloss:0.018757423385977745,validationloss:0.1851380467414856\n",
      "lr:0.006,trainloss:0.01607462391257286,validationloss:0.217420756816864\n",
      "lr:0.007,trainloss:0.014395124278962612,validationloss:0.17405104637145996\n",
      "lr:0.008,trainloss:0.01764076203107834,validationloss:0.1992901712656021\n",
      "lr:0.009,trainloss:0.019459424540400505,validationloss:0.18988037109375\n",
      "lr:0.01,trainloss:0.01846892572939396,validationloss:0.263139009475708\n",
      "lr:0.02,trainloss:0.37165772914886475,validationloss:0.5136882662773132\n",
      "lr:0.03,trainloss:0.38677287101745605,validationloss:0.5446743369102478\n",
      "lr:0.04,trainloss:0.44216278195381165,validationloss:0.49443861842155457\n",
      "lr:0.05,trainloss:0.44262489676475525,validationloss:0.49544334411621094\n",
      "lr:0.06,trainloss:0.4431488811969757,validationloss:0.4965374171733856\n",
      "lr:0.07,trainloss:0.4437381327152252,validationloss:0.49772053956985474\n",
      "lr:0.08,trainloss:0.44439563155174255,validationloss:0.4989911615848541\n",
      "lr:0.09,trainloss:0.44512486457824707,validationloss:0.5003491640090942\n"
     ]
    }
   ],
   "source": [
    "from tqdm import tqdm\n",
    "model=Model()\n",
    "torch.manual_seed(1)\n",
    "criterion=nn.BCELoss()\n",
    "num_iterations=2000\n",
    "\n",
    "\n",
    "lrs = [0.001,0.002,0.003,.004,0.005,0.006,0.007,0.008,0.009,0.01,0.02,0.03,\n",
    "       0.04,0.05,0.06,0.07,0.08,0.09]\n",
    "trainlosses=[]\n",
    "validationlosses=[]\n",
    "for lr in lrs:\n",
    "    trainloss=0\n",
    "    optimizer=optim.Adam(model.parameters(),lr=lr)\n",
    "    for i in range(num_iterations):\n",
    "        for x,y in trainloader:\n",
    "            yhat=model(x)\n",
    "            trainloss=criterion(yhat,y)\n",
    "            optimizer.zero_grad()\n",
    "            trainloss.backward()\n",
    "            optimizer.step()\n",
    "        if trainloss<=0.02:\n",
    "            break\n",
    "    trainlosses.append(trainloss)   \n",
    "    for j,epoch in enumerate(testloader):\n",
    "        x,y=epoch\n",
    "        if j==0:\n",
    "            yhat=model(x)\n",
    "        else:\n",
    "            yhat=torch.cat((yhat,model(x)),dim=0)\n",
    "    validationloss=criterion(yhat[0:357],Y[0:357])\n",
    "    validationlosses.append(validationloss)\n",
    "    print(f'lr:{lr},trainloss:{trainlosses[-1]},validationloss:{validationloss}')\n",
    "\n",
    "    "
   ]
  },
  {
   "cell_type": "code",
   "execution_count": 11,
   "id": "8fddba8d",
   "metadata": {
    "execution": {
     "iopub.execute_input": "2023-01-06T04:37:06.185036Z",
     "iopub.status.busy": "2023-01-06T04:37:06.183554Z",
     "iopub.status.idle": "2023-01-06T04:37:06.527592Z",
     "shell.execute_reply": "2023-01-06T04:37:06.526498Z"
    },
    "papermill": {
     "duration": 0.39837,
     "end_time": "2023-01-06T04:37:06.530225",
     "exception": false,
     "start_time": "2023-01-06T04:37:06.131855",
     "status": "completed"
    },
    "tags": []
   },
   "outputs": [
    {
     "data": {
      "image/png": "[encoded data removed]",
      "text/plain": [
       "<Figure size 1296x720 with 1 Axes>"
      ]
     },
     "metadata": {
      "needs_background": "light"
     },
     "output_type": "display_data"
    }
   ],
   "source": [
    "plt.figure(figsize=(18,10))\n",
    "plt.plot(list(map(str,lrs)),torch.tensor(trainlosses).detach().numpy())\n",
    "plt.plot(list(map(str,lrs)),torch.tensor(validationlosses).detach().numpy())\n",
    "plt.xlabel('learning rate')\n",
    "plt.ylabel('train vs. test loss')\n",
    "plt.grid()"
   ]
  },
  {
   "cell_type": "markdown",
   "id": "d76e4237",
   "metadata": {
    "papermill": {
     "duration": 0.050747,
     "end_time": "2023-01-06T04:37:06.631349",
     "exception": false,
     "start_time": "2023-01-06T04:37:06.580602",
     "status": "completed"
    },
    "tags": []
   },
   "source": [
    "The best learning rate for the validation data was found on lr=0.005"
   ]
  },
  {
   "cell_type": "markdown",
   "id": "c22d941c",
   "metadata": {
    "papermill": {
     "duration": 0.05218,
     "end_time": "2023-01-06T04:37:06.734619",
     "exception": false,
     "start_time": "2023-01-06T04:37:06.682439",
     "status": "completed"
    },
    "tags": []
   },
   "source": [
    "# Training the model using the selected Hyperparameters"
   ]
  },
  {
   "cell_type": "code",
   "execution_count": 12,
   "id": "06496f73",
   "metadata": {
    "execution": {
     "iopub.execute_input": "2023-01-06T04:37:06.838034Z",
     "iopub.status.busy": "2023-01-06T04:37:06.837319Z",
     "iopub.status.idle": "2023-01-06T04:37:36.528279Z",
     "shell.execute_reply": "2023-01-06T04:37:36.526059Z"
    },
    "papermill": {
     "duration": 29.746539,
     "end_time": "2023-01-06T04:37:36.531874",
     "exception": false,
     "start_time": "2023-01-06T04:37:06.785335",
     "status": "completed"
    },
    "tags": []
   },
   "outputs": [
    {
     "name": "stderr",
     "output_type": "stream",
     "text": [
      "100%|██████████| 2000/2000 [00:29<00:00, 67.47it/s]"
     ]
    },
    {
     "name": "stdout",
     "output_type": "stream",
     "text": [
      "train_loss: 0.03499177470803261\n",
      "test_loss: 0.09138251841068268, Test_accurecy =0.9537814855575562\n"
     ]
    },
    {
     "name": "stderr",
     "output_type": "stream",
     "text": [
      "\n"
     ]
    }
   ],
   "source": [
    "from tqdm import tqdm\n",
    "model=Model()\n",
    "torch.manual_seed(1)\n",
    "criterion=nn.BCELoss()\n",
    "losses=[]\n",
    "num_iterations=2000\n",
    "optimizer=optim.Adam(model.parameters(),lr=0.004)\n",
    "loss=0\n",
    "for i in tqdm(range(num_iterations)):\n",
    "    for x,y in trainloader:\n",
    "        yhat=model(x)\n",
    "        loss=criterion(yhat,y)\n",
    "        optimizer.zero_grad()\n",
    "        loss.backward()\n",
    "        optimizer.step()\n",
    "    losses.append(loss)\n",
    "    if loss<=0.02:\n",
    "        break\n",
    "print(f'train_loss: {losses[-1]}')\n",
    "for i,epoch in enumerate(testloader):\n",
    "    x,y=epoch\n",
    "    if i==0:\n",
    "        yhat=model(x)\n",
    "    else:\n",
    "        yhat=torch.cat((yhat,model(x)),dim=0)\n",
    "loss=criterion(yhat[357:715],Y[357:715])\n",
    "test_acc = torch.sum(torch.round(yhat) == Y)/len(yhat)\n",
    "print(f'test_loss: {loss}, Test_accurecy ={test_acc}')"
   ]
  },
  {
   "cell_type": "markdown",
   "id": "d20346d5",
   "metadata": {
    "papermill": {
     "duration": 0.068511,
     "end_time": "2023-01-06T04:37:36.667608",
     "exception": false,
     "start_time": "2023-01-06T04:37:36.599097",
     "status": "completed"
    },
    "tags": []
   },
   "source": [
    "# Submit the final results"
   ]
  },
  {
   "cell_type": "code",
   "execution_count": 13,
   "id": "378b776f",
   "metadata": {
    "execution": {
     "iopub.execute_input": "2023-01-06T04:37:36.803164Z",
     "iopub.status.busy": "2023-01-06T04:37:36.802707Z",
     "iopub.status.idle": "2023-01-06T04:37:36.810182Z",
     "shell.execute_reply": "2023-01-06T04:37:36.808931Z"
    },
    "papermill": {
     "duration": 0.078145,
     "end_time": "2023-01-06T04:37:36.812434",
     "exception": false,
     "start_time": "2023-01-06T04:37:36.734289",
     "status": "completed"
    },
    "tags": []
   },
   "outputs": [
    {
     "data": {
      "text/plain": [
       "torch.Size([714, 1])"
      ]
     },
     "execution_count": 13,
     "metadata": {},
     "output_type": "execute_result"
    }
   ],
   "source": [
    "yhat.shape\n"
   ]
  },
  {
   "cell_type": "code",
   "execution_count": 14,
   "id": "02e24425",
   "metadata": {
    "execution": {
     "iopub.execute_input": "2023-01-06T04:37:36.951017Z",
     "iopub.status.busy": "2023-01-06T04:37:36.950553Z",
     "iopub.status.idle": "2023-01-06T04:37:36.962948Z",
     "shell.execute_reply": "2023-01-06T04:37:36.961619Z"
    },
    "papermill": {
     "duration": 0.086427,
     "end_time": "2023-01-06T04:37:36.966030",
     "exception": false,
     "start_time": "2023-01-06T04:37:36.879603",
     "status": "completed"
    },
    "tags": []
   },
   "outputs": [],
   "source": [
    "my_submission = pd.DataFrame({'PassengerId': test['PassengerId'], 'Survived': yhat.reshape(-1).detach().numpy()})\n",
    "my_submission.to_csv('submission.csv',index=False)"
   ]
  }
 ],
 "metadata": {
  "kernelspec": {
   "display_name": "Python 3",
   "language": "python",
   "name": "python3"
  },
  "language_info": {
   "codemirror_mode": {
    "name": "ipython",
    "version": 3
   },
   "file_extension": ".py",
   "mimetype": "text/x-python",
   "name": "python",
   "nbconvert_exporter": "python",
   "pygments_lexer": "ipython3",
   "version": "3.7.12"
  },
  "papermill": {
   "default_parameters": {},
   "duration": 493.637605,
   "end_time": "2023-01-06T04:37:37.961023",
   "environment_variables": {},
   "exception": null,
   "input_path": "__notebook__.ipynb",
   "output_path": "__notebook__.ipynb",
   "parameters": {},
   "start_time": "2023-01-06T04:29:24.323418",
   "version": "2.3.4"
  }
 },
 "nbformat": 4,
 "nbformat_minor": 5
}
