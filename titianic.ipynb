{
 "cells": [
  {
   "cell_type": "code",
   "execution_count": 1,
   "id": "f1dd18a5",
   "metadata": {
    "_cell_guid": "b1076dfc-b9ad-4769-8c92-a6c4dae69d19",
    "_uuid": "8f2839f25d086af736a60e9eeb907d3b93b6e0e5",
    "execution": {
     "iopub.execute_input": "2023-01-05T06:39:29.107816Z",
     "iopub.status.busy": "2023-01-05T06:39:29.107281Z",
     "iopub.status.idle": "2023-01-05T06:39:29.124499Z",
     "shell.execute_reply": "2023-01-05T06:39:29.123492Z"
    },
    "papermill": {
     "duration": 0.03029,
     "end_time": "2023-01-05T06:39:29.127850",
     "exception": false,
     "start_time": "2023-01-05T06:39:29.097560",
     "status": "completed"
    },
    "tags": []
   },
   "outputs": [
    {
     "name": "stdout",
     "output_type": "stream",
     "text": [
      "/kaggle/input/titanic/train.csv\n",
      "/kaggle/input/titanic/test.csv\n",
      "/kaggle/input/titanic/gender_submission.csv\n"
     ]
    }
   ],
   "source": [
    "# This Python 3 environment comes with many helpful analytics libraries installed\n",
    "# It is defined by the kaggle/python Docker image: https://github.com/kaggle/docker-python\n",
    "# For example, here's several helpful packages to load\n",
    "\n",
    "import numpy as np # linear algebra\n",
    "import pandas as pd # data processing, CSV file I/O (e.g. pd.read_csv)\n",
    "\n",
    "# Input data files are available in the read-only \"../input/\" directory\n",
    "# For example, running this (by clicking run or pressing Shift+Enter) will list all files under the input directory\n",
    "\n",
    "import os\n",
    "for dirname, _, filenames in os.walk('/kaggle/input'):\n",
    "    for filename in filenames:\n",
    "        print(os.path.join(dirname, filename))\n",
    "\n",
    "# You can write up to 20GB to the current directory (/kaggle/working/) that gets preserved as output when you create a version using \"Save & Run All\" \n",
    "# You can also write temporary files to /kaggle/temp/, but they won't be saved outside of the current session"
   ]
  },
  {
   "cell_type": "markdown",
   "id": "27e4a7a1",
   "metadata": {
    "papermill": {
     "duration": 0.006486,
     "end_time": "2023-01-05T06:39:29.141424",
     "exception": false,
     "start_time": "2023-01-05T06:39:29.134938",
     "status": "completed"
    },
    "tags": []
   },
   "source": [
    "# Import necessery libraries"
   ]
  },
  {
   "cell_type": "code",
   "execution_count": 2,
   "id": "53888d9b",
   "metadata": {
    "execution": {
     "iopub.execute_input": "2023-01-05T06:39:29.156600Z",
     "iopub.status.busy": "2023-01-05T06:39:29.156140Z",
     "iopub.status.idle": "2023-01-05T06:39:30.980677Z",
     "shell.execute_reply": "2023-01-05T06:39:30.979392Z"
    },
    "papermill": {
     "duration": 1.83512,
     "end_time": "2023-01-05T06:39:30.983289",
     "exception": false,
     "start_time": "2023-01-05T06:39:29.148169",
     "status": "completed"
    },
    "tags": []
   },
   "outputs": [],
   "source": [
    "import os\n",
    "import torch\n",
    "from torch import nn,optim\n",
    "from torch.utils.data import Dataset,DataLoader\n",
    "import matplotlib.pyplot as plt"
   ]
  },
  {
   "cell_type": "markdown",
   "id": "6f085623",
   "metadata": {
    "papermill": {
     "duration": 0.006449,
     "end_time": "2023-01-05T06:39:30.996498",
     "exception": false,
     "start_time": "2023-01-05T06:39:30.990049",
     "status": "completed"
    },
    "tags": []
   },
   "source": [
    "# Data PreProcessing"
   ]
  },
  {
   "cell_type": "code",
   "execution_count": 3,
   "id": "6ca776c4",
   "metadata": {
    "execution": {
     "iopub.execute_input": "2023-01-05T06:39:31.012212Z",
     "iopub.status.busy": "2023-01-05T06:39:31.011589Z",
     "iopub.status.idle": "2023-01-05T06:39:31.065909Z",
     "shell.execute_reply": "2023-01-05T06:39:31.064766Z"
    },
    "papermill": {
     "duration": 0.065886,
     "end_time": "2023-01-05T06:39:31.068813",
     "exception": false,
     "start_time": "2023-01-05T06:39:31.002927",
     "status": "completed"
    },
    "tags": []
   },
   "outputs": [],
   "source": [
    "from torch.utils.data import TensorDataset,DataLoader\n",
    "directory=\"/kaggle/input/titanic/\"\n",
    "csv_file='train.csv'\n",
    "csv_path=os.path.join(directory,csv_file)\n",
    "train_data=pd.read_csv(csv_path)\n",
    "train=train_data.drop(['PassengerId','Name','Ticket','Cabin'],axis=1)\n",
    "train.dropna(axis=0, inplace=True)\n",
    "train= pd.get_dummies(train,columns=['Pclass','Sex','SibSp','Parch','Embarked'])\n",
    "X=train.drop(['Survived'],axis=1)\n",
    "X=torch.tensor(X.values.astype(np.float32))\n",
    "Y=torch.tensor(train['Survived'].values.astype(np.float32))\n",
    "Y=Y.reshape([-1, 1])\n",
    "dataset=TensorDataset(X,Y)\n",
    "trainloader=DataLoader(dataset,batch_size=100,shuffle=False)"
   ]
  },
  {
   "cell_type": "markdown",
   "id": "0ccf3797",
   "metadata": {
    "papermill": {
     "duration": 0.006131,
     "end_time": "2023-01-05T06:39:31.081608",
     "exception": false,
     "start_time": "2023-01-05T06:39:31.075477",
     "status": "completed"
    },
    "tags": []
   },
   "source": [
    "# Defing The NeuralNetwork Class "
   ]
  },
  {
   "cell_type": "code",
   "execution_count": 4,
   "id": "dc1e448c",
   "metadata": {
    "execution": {
     "iopub.execute_input": "2023-01-05T06:39:31.097345Z",
     "iopub.status.busy": "2023-01-05T06:39:31.096006Z",
     "iopub.status.idle": "2023-01-05T06:39:31.104483Z",
     "shell.execute_reply": "2023-01-05T06:39:31.103598Z"
    },
    "papermill": {
     "duration": 0.018941,
     "end_time": "2023-01-05T06:39:31.107063",
     "exception": false,
     "start_time": "2023-01-05T06:39:31.088122",
     "status": "completed"
    },
    "tags": []
   },
   "outputs": [],
   "source": [
    "class Model(nn.Module):\n",
    "    def __init__(self):\n",
    "        super(Model,self).__init__()\n",
    "        self.NN=nn.Sequential(nn.Linear(23,100),nn.ReLU(),\n",
    "                              nn.Linear(100,10),nn.ReLU(),\n",
    "                              nn.Linear(10,10),nn.ReLU(),\n",
    "                              nn.Linear(10,10),nn.ReLU(),\n",
    "                              nn.Linear(10,1),nn.Sigmoid())\n",
    "    def forward(self,x):\n",
    "        yhat=self.NN(torch.Tensor(x))\n",
    "        return yhat\n"
   ]
  },
  {
   "cell_type": "markdown",
   "id": "5be786fe",
   "metadata": {
    "papermill": {
     "duration": 0.007696,
     "end_time": "2023-01-05T06:39:31.121264",
     "exception": false,
     "start_time": "2023-01-05T06:39:31.113568",
     "status": "completed"
    },
    "tags": []
   },
   "source": [
    "# Training the first virsion of the model"
   ]
  },
  {
   "cell_type": "code",
   "execution_count": 5,
   "id": "339a3f6f",
   "metadata": {
    "execution": {
     "iopub.execute_input": "2023-01-05T06:39:31.136412Z",
     "iopub.status.busy": "2023-01-05T06:39:31.135563Z",
     "iopub.status.idle": "2023-01-05T06:39:50.531878Z",
     "shell.execute_reply": "2023-01-05T06:39:50.530473Z"
    },
    "papermill": {
     "duration": 19.407154,
     "end_time": "2023-01-05T06:39:50.534829",
     "exception": false,
     "start_time": "2023-01-05T06:39:31.127675",
     "status": "completed"
    },
    "tags": []
   },
   "outputs": [
    {
     "name": "stderr",
     "output_type": "stream",
     "text": [
      " 58%|█████▊    | 1151/2000 [00:19<00:14, 60.07it/s]\n"
     ]
    },
    {
     "name": "stdout",
     "output_type": "stream",
     "text": [
      "tensor(0.0199, grad_fn=<BinaryCrossEntropyBackward0>)\n"
     ]
    },
    {
     "data": {
      "image/png": "[encoded data removed]",
      "text/plain": [
       "<Figure size 432x288 with 1 Axes>"
      ]
     },
     "metadata": {
      "needs_background": "light"
     },
     "output_type": "display_data"
    }
   ],
   "source": [
    "from tqdm import tqdm\n",
    "model=Model()\n",
    "torch.manual_seed(1)\n",
    "criterion=nn.BCELoss()\n",
    "losses=[]\n",
    "num_iterations=2000\n",
    "optimizer=optim.Adam(model.parameters(),lr=0.005)\n",
    "loss=0\n",
    "for i in tqdm(range(num_iterations)):\n",
    "    for x,y in trainloader:\n",
    "        yhat=model(x)\n",
    "        loss=criterion(yhat,y)\n",
    "        optimizer.zero_grad()\n",
    "        loss.backward()\n",
    "        optimizer.step()\n",
    "    losses.append(loss)\n",
    "    if loss<=0.02:\n",
    "        break\n",
    "plt.plot(torch.tensor(losses).numpy())\n",
    "plt.xlabel('num_iterations')\n",
    "#plt.plot(lrs)\n",
    "print(losses[-1])"
   ]
  },
  {
   "cell_type": "markdown",
   "id": "d9b2df17",
   "metadata": {
    "papermill": {
     "duration": 0.017746,
     "end_time": "2023-01-05T06:39:50.571000",
     "exception": false,
     "start_time": "2023-01-05T06:39:50.553254",
     "status": "completed"
    },
    "tags": []
   },
   "source": [
    "# Processing the test data"
   ]
  },
  {
   "cell_type": "code",
   "execution_count": 6,
   "id": "f6938b0f",
   "metadata": {
    "execution": {
     "iopub.execute_input": "2023-01-05T06:39:50.607879Z",
     "iopub.status.busy": "2023-01-05T06:39:50.607464Z",
     "iopub.status.idle": "2023-01-05T06:39:50.650999Z",
     "shell.execute_reply": "2023-01-05T06:39:50.649793Z"
    },
    "papermill": {
     "duration": 0.065598,
     "end_time": "2023-01-05T06:39:50.653911",
     "exception": false,
     "start_time": "2023-01-05T06:39:50.588313",
     "status": "completed"
    },
    "tags": []
   },
   "outputs": [],
   "source": [
    "csv_file='test.csv'\n",
    "csv_path=os.path.join(directory,csv_file)\n",
    "test_data=pd.read_csv(csv_path)\n",
    "test=train_data.drop(['Name','Ticket','Cabin'],axis=1)\n",
    "csv_file='gender_submission.csv'\n",
    "csv_path=os.path.join(directory,csv_file)\n",
    "test_labels=pd.read_csv(csv_path)\n",
    "test=pd.concat([test,test_labels])\n",
    "test=test.drop('PassengerId',axis=1)\n",
    "test= pd.get_dummies(test,columns=[ 'Pclass','Sex','SibSp','Parch','Embarked'])\n",
    "test=test.drop('SibSp_8.0',axis=1)\n",
    "test=test.dropna(axis=0)\n",
    "X=test.drop(['Survived'],axis=1)\n",
    "X=torch.tensor(X.values.astype(np.float32))\n",
    "Y=torch.tensor(test['Survived'].values.astype(np.float32))\n",
    "Y=Y.reshape([-1, 1])\n",
    "dataset=TensorDataset(X,Y)\n",
    "testloader=DataLoader(dataset,batch_size=100,shuffle=False)"
   ]
  },
  {
   "cell_type": "markdown",
   "id": "3b8372f0",
   "metadata": {
    "papermill": {
     "duration": 0.017156,
     "end_time": "2023-01-05T06:39:50.688450",
     "exception": false,
     "start_time": "2023-01-05T06:39:50.671294",
     "status": "completed"
    },
    "tags": []
   },
   "source": [
    "# Testing the model on the validation dataset"
   ]
  },
  {
   "cell_type": "markdown",
   "id": "a57056d7",
   "metadata": {
    "papermill": {
     "duration": 0.017417,
     "end_time": "2023-01-05T06:39:50.723174",
     "exception": false,
     "start_time": "2023-01-05T06:39:50.705757",
     "status": "completed"
    },
    "tags": []
   },
   "source": [
    "**note we took half of thee testing data as a validation set"
   ]
  },
  {
   "cell_type": "code",
   "execution_count": 7,
   "id": "b5bdf344",
   "metadata": {
    "execution": {
     "iopub.execute_input": "2023-01-05T06:39:50.760134Z",
     "iopub.status.busy": "2023-01-05T06:39:50.759737Z",
     "iopub.status.idle": "2023-01-05T06:39:50.779224Z",
     "shell.execute_reply": "2023-01-05T06:39:50.777920Z"
    },
    "papermill": {
     "duration": 0.041908,
     "end_time": "2023-01-05T06:39:50.782612",
     "exception": false,
     "start_time": "2023-01-05T06:39:50.740704",
     "status": "completed"
    },
    "tags": []
   },
   "outputs": [
    {
     "name": "stdout",
     "output_type": "stream",
     "text": [
      "tensor(0.2336, grad_fn=<BinaryCrossEntropyBackward0>)\n"
     ]
    }
   ],
   "source": [
    "for i,epoch in enumerate(testloader):\n",
    "    x,y=epoch\n",
    "    if i==0:\n",
    "        yhat=model(x)\n",
    "    else:\n",
    "        yhat=torch.cat((yhat,model(x)),dim=0)\n",
    "loss=criterion(yhat[357:715],Y[357:715])\n",
    "print(loss)\n"
   ]
  },
  {
   "cell_type": "markdown",
   "id": "4128b648",
   "metadata": {
    "papermill": {
     "duration": 0.017127,
     "end_time": "2023-01-05T06:39:50.818763",
     "exception": false,
     "start_time": "2023-01-05T06:39:50.801636",
     "status": "completed"
    },
    "tags": []
   },
   "source": [
    "# Improving the model by changing the Hyperparameters & testing"
   ]
  },
  {
   "cell_type": "markdown",
   "id": "335bba4e",
   "metadata": {
    "papermill": {
     "duration": 0.017029,
     "end_time": "2023-01-05T06:39:50.853964",
     "exception": false,
     "start_time": "2023-01-05T06:39:50.836935",
     "status": "completed"
    },
    "tags": []
   },
   "source": [
    "**1) Using Adamax Optimizer**"
   ]
  },
  {
   "cell_type": "code",
   "execution_count": 8,
   "id": "014dafa7",
   "metadata": {
    "execution": {
     "iopub.execute_input": "2023-01-05T06:39:50.892449Z",
     "iopub.status.busy": "2023-01-05T06:39:50.891101Z",
     "iopub.status.idle": "2023-01-05T06:40:19.893026Z",
     "shell.execute_reply": "2023-01-05T06:40:19.891732Z"
    },
    "papermill": {
     "duration": 29.023106,
     "end_time": "2023-01-05T06:40:19.895341",
     "exception": false,
     "start_time": "2023-01-05T06:39:50.872235",
     "status": "completed"
    },
    "tags": []
   },
   "outputs": [
    {
     "name": "stderr",
     "output_type": "stream",
     "text": [
      " 83%|████████▎ | 1651/2000 [00:28<00:06, 57.44it/s]\n"
     ]
    },
    {
     "name": "stdout",
     "output_type": "stream",
     "text": [
      "tensor(0.0181, grad_fn=<BinaryCrossEntropyBackward0>)\n",
      "tensor(0.1585, grad_fn=<BinaryCrossEntropyBackward0>)\n"
     ]
    },
    {
     "data": {
      "image/png": "[encoded data removed]",
      "text/plain": [
       "<Figure size 432x288 with 1 Axes>"
      ]
     },
     "metadata": {
      "needs_background": "light"
     },
     "output_type": "display_data"
    }
   ],
   "source": [
    "from tqdm import tqdm\n",
    "model=Model()\n",
    "torch.manual_seed(1)\n",
    "criterion=nn.BCELoss()\n",
    "losses=[]\n",
    "num_iterations=2000\n",
    "optimizer=optim.Adamax(model.parameters(),lr=0.005)\n",
    "loss=0\n",
    "for i in tqdm(range(num_iterations)):\n",
    "    for x,y in trainloader:\n",
    "        yhat=model(x)\n",
    "        loss=criterion(yhat,y)\n",
    "        optimizer.zero_grad()\n",
    "        loss.backward()\n",
    "        optimizer.step()\n",
    "    losses.append(loss)\n",
    "    if loss<=0.02:\n",
    "        break\n",
    "plt.plot(torch.tensor(losses).numpy())\n",
    "plt.xlabel('num_iterations')\n",
    "print(losses[-1])\n",
    "for i,epoch in enumerate(testloader):\n",
    "    x,y=epoch\n",
    "    if i==0:\n",
    "        yhat=model(x)\n",
    "    else:\n",
    "        yhat=torch.cat((yhat,model(x)),dim=0)\n",
    "loss=criterion(yhat[357:715],Y[357:715])\n",
    "print(loss)"
   ]
  },
  {
   "cell_type": "markdown",
   "id": "58a515a5",
   "metadata": {
    "papermill": {
     "duration": 0.033186,
     "end_time": "2023-01-05T06:40:19.963041",
     "exception": false,
     "start_time": "2023-01-05T06:40:19.929855",
     "status": "completed"
    },
    "tags": []
   },
   "source": [
    "**2) Using AdamW Optimizer**"
   ]
  },
  {
   "cell_type": "code",
   "execution_count": 9,
   "id": "a843775c",
   "metadata": {
    "execution": {
     "iopub.execute_input": "2023-01-05T06:40:20.032138Z",
     "iopub.status.busy": "2023-01-05T06:40:20.031675Z",
     "iopub.status.idle": "2023-01-05T06:40:34.365751Z",
     "shell.execute_reply": "2023-01-05T06:40:34.364212Z"
    },
    "papermill": {
     "duration": 14.372128,
     "end_time": "2023-01-05T06:40:34.368838",
     "exception": false,
     "start_time": "2023-01-05T06:40:19.996710",
     "status": "completed"
    },
    "tags": []
   },
   "outputs": [
    {
     "name": "stderr",
     "output_type": "stream",
     "text": [
      " 41%|████      | 823/2000 [00:14<00:20, 58.54it/s]\n"
     ]
    },
    {
     "name": "stdout",
     "output_type": "stream",
     "text": [
      "tensor(0.0170, grad_fn=<BinaryCrossEntropyBackward0>)\n",
      "tensor(0.1880, grad_fn=<BinaryCrossEntropyBackward0>)\n"
     ]
    },
    {
     "data": {
      "image/png": "[encoded data removed]",
      "text/plain": [
       "<Figure size 432x288 with 1 Axes>"
      ]
     },
     "metadata": {
      "needs_background": "light"
     },
     "output_type": "display_data"
    }
   ],
   "source": [
    "from tqdm import tqdm\n",
    "model=Model()\n",
    "torch.manual_seed(1)\n",
    "criterion=nn.BCELoss()\n",
    "losses=[]\n",
    "num_iterations=2000\n",
    "optimizer=optim.AdamW(model.parameters(),lr=0.005)\n",
    "loss=0\n",
    "lrs = []\n",
    "#lambda1 = lambda epoch: 0.1 ** epoch\n",
    "#scheduler = torch.optim.lr_scheduler.LambdaLR(optimizer, lr_lambda=lambda1)\n",
    "for i in tqdm(range(num_iterations)):\n",
    "    for x,y in trainloader:\n",
    "        yhat=model(x)\n",
    "        loss=criterion(yhat,y)\n",
    "        optimizer.zero_grad()\n",
    "        loss.backward()\n",
    "        optimizer.step()\n",
    "        #scheduler.step()\n",
    "        #lrs.append(optimizer.param_groups[0][\"lr\"])\n",
    "    losses.append(loss)\n",
    "    if loss<=0.02:\n",
    "        break\n",
    "plt.plot(torch.tensor(losses).numpy())\n",
    "plt.xlabel('num_iterations')\n",
    "#plt.plot(lrs)\n",
    "print(losses[-1])\n",
    "for i,epoch in enumerate(testloader):\n",
    "    x,y=epoch\n",
    "    if i==0:\n",
    "        yhat=model(x)\n",
    "    else:\n",
    "        yhat=torch.cat((yhat,model(x)),dim=0)\n",
    "loss=criterion(yhat[357:715],Y[357:715])\n",
    "print(loss)"
   ]
  },
  {
   "cell_type": "markdown",
   "id": "1008f0d6",
   "metadata": {
    "papermill": {
     "duration": 0.043237,
     "end_time": "2023-01-05T06:40:34.454433",
     "exception": false,
     "start_time": "2023-01-05T06:40:34.411196",
     "status": "completed"
    },
    "tags": []
   },
   "source": [
    "Adam was the best optimizer when applying on the validation data"
   ]
  },
  {
   "cell_type": "markdown",
   "id": "090d91ea",
   "metadata": {
    "papermill": {
     "duration": 0.041815,
     "end_time": "2023-01-05T06:40:34.538257",
     "exception": false,
     "start_time": "2023-01-05T06:40:34.496442",
     "status": "completed"
    },
    "tags": []
   },
   "source": [
    "**3) Trying different learning rates to select the best one**"
   ]
  },
  {
   "cell_type": "code",
   "execution_count": 10,
   "id": "cf2c493e",
   "metadata": {
    "execution": {
     "iopub.execute_input": "2023-01-05T06:40:34.624545Z",
     "iopub.status.busy": "2023-01-05T06:40:34.624101Z",
     "iopub.status.idle": "2023-01-05T06:45:50.906214Z",
     "shell.execute_reply": "2023-01-05T06:45:50.905133Z"
    },
    "papermill": {
     "duration": 316.37332,
     "end_time": "2023-01-05T06:45:50.953176",
     "exception": false,
     "start_time": "2023-01-05T06:40:34.579856",
     "status": "completed"
    },
    "tags": []
   },
   "outputs": [
    {
     "name": "stdout",
     "output_type": "stream",
     "text": [
      "lr:0.001,trainloss:0.017336323857307434,validationloss:0.3531527817249298\n",
      "lr:0.002,trainloss:0.014065171591937542,validationloss:0.21685895323753357\n",
      "lr:0.003,trainloss:0.017718467861413956,validationloss:0.40012669563293457\n",
      "lr:0.004,trainloss:0.019608067348599434,validationloss:0.22653056681156158\n",
      "lr:0.005,trainloss:0.019305424764752388,validationloss:0.2198958843946457\n",
      "lr:0.006,trainloss:0.019152911379933357,validationloss:0.37491294741630554\n",
      "lr:0.007,trainloss:0.01968357153236866,validationloss:0.20520934462547302\n",
      "lr:0.008,trainloss:0.019258948042988777,validationloss:0.22170531749725342\n",
      "lr:0.009,trainloss:0.01983361691236496,validationloss:0.185808002948761\n",
      "lr:0.01,trainloss:0.019785186275839806,validationloss:0.212104931473732\n",
      "lr:0.02,trainloss:0.06816337257623672,validationloss:0.2969115972518921\n",
      "lr:0.03,trainloss:0.646988570690155,validationloss:0.6598384380340576\n",
      "lr:0.04,trainloss:0.6474331021308899,validationloss:0.6584092974662781\n",
      "lr:0.05,trainloss:0.6475715041160583,validationloss:0.6584157347679138\n",
      "lr:0.06,trainloss:0.647711455821991,validationloss:0.6584227085113525\n",
      "lr:0.07,trainloss:0.6478529572486877,validationloss:0.6584303975105286\n",
      "lr:0.08,trainloss:0.6479959487915039,validationloss:0.6584388613700867\n",
      "lr:0.09,trainloss:0.6481404900550842,validationloss:0.6584480404853821\n"
     ]
    }
   ],
   "source": [
    "from tqdm import tqdm\n",
    "model=Model()\n",
    "torch.manual_seed(1)\n",
    "criterion=nn.BCELoss()\n",
    "num_iterations=2000\n",
    "\n",
    "\n",
    "lrs = [0.001,0.002,0.003,.004,0.005,0.006,0.007,0.008,0.009,0.01,0.02,0.03,\n",
    "       0.04,0.05,0.06,0.07,0.08,0.09]\n",
    "trainlosses=[]\n",
    "validationlosses=[]\n",
    "for lr in lrs:\n",
    "    trainloss=0\n",
    "    optimizer=optim.Adam(model.parameters(),lr=lr)\n",
    "    for i in range(num_iterations):\n",
    "        for x,y in trainloader:\n",
    "            yhat=model(x)\n",
    "            trainloss=criterion(yhat,y)\n",
    "            optimizer.zero_grad()\n",
    "            trainloss.backward()\n",
    "            optimizer.step()\n",
    "        if trainloss<=0.02:\n",
    "            break\n",
    "    trainlosses.append(trainloss)   \n",
    "    for j,epoch in enumerate(testloader):\n",
    "        x,y=epoch\n",
    "        if j==0:\n",
    "            yhat=model(x)\n",
    "        else:\n",
    "            yhat=torch.cat((yhat,model(x)),dim=0)\n",
    "    validationloss=criterion(yhat[0:357],Y[0:357])\n",
    "    validationlosses.append(validationloss)\n",
    "    print(f'lr:{lr},trainloss:{trainlosses[-1]},validationloss:{validationloss}')\n",
    "\n",
    "    "
   ]
  },
  {
   "cell_type": "code",
   "execution_count": 11,
   "id": "c2f39ed1",
   "metadata": {
    "execution": {
     "iopub.execute_input": "2023-01-05T06:45:51.042775Z",
     "iopub.status.busy": "2023-01-05T06:45:51.041228Z",
     "iopub.status.idle": "2023-01-05T06:45:51.404333Z",
     "shell.execute_reply": "2023-01-05T06:45:51.403456Z"
    },
    "papermill": {
     "duration": 0.411074,
     "end_time": "2023-01-05T06:45:51.407207",
     "exception": false,
     "start_time": "2023-01-05T06:45:50.996133",
     "status": "completed"
    },
    "tags": []
   },
   "outputs": [
    {
     "data": {
      "image/png": "[encoded data removed]",
      "text/plain": [
       "<Figure size 1296x720 with 1 Axes>"
      ]
     },
     "metadata": {
      "needs_background": "light"
     },
     "output_type": "display_data"
    }
   ],
   "source": [
    "plt.figure(figsize=(18,10))\n",
    "plt.plot(list(map(str,lrs)),torch.tensor(trainlosses).detach().numpy())\n",
    "plt.plot(list(map(str,lrs)),torch.tensor(validationlosses).detach().numpy())\n",
    "plt.xlabel('learning rate')\n",
    "plt.ylabel('train vs. test loss')\n",
    "plt.grid()"
   ]
  },
  {
   "cell_type": "markdown",
   "id": "dfdcd57e",
   "metadata": {
    "papermill": {
     "duration": 0.044542,
     "end_time": "2023-01-05T06:45:51.495785",
     "exception": false,
     "start_time": "2023-01-05T06:45:51.451243",
     "status": "completed"
    },
    "tags": []
   },
   "source": [
    "The best learning rate for the validation data was found on lr=0.005"
   ]
  },
  {
   "cell_type": "markdown",
   "id": "0b67ea83",
   "metadata": {
    "papermill": {
     "duration": 0.043103,
     "end_time": "2023-01-05T06:45:51.582673",
     "exception": false,
     "start_time": "2023-01-05T06:45:51.539570",
     "status": "completed"
    },
    "tags": []
   },
   "source": [
    "# Training the model using the selected Hyperparameters"
   ]
  },
  {
   "cell_type": "code",
   "execution_count": 12,
   "id": "25142cc4",
   "metadata": {
    "execution": {
     "iopub.execute_input": "2023-01-05T06:45:51.675148Z",
     "iopub.status.busy": "2023-01-05T06:45:51.674173Z",
     "iopub.status.idle": "2023-01-05T06:46:05.328343Z",
     "shell.execute_reply": "2023-01-05T06:46:05.326928Z"
    },
    "papermill": {
     "duration": 13.702604,
     "end_time": "2023-01-05T06:46:05.330907",
     "exception": false,
     "start_time": "2023-01-05T06:45:51.628303",
     "status": "completed"
    },
    "tags": []
   },
   "outputs": [
    {
     "name": "stderr",
     "output_type": "stream",
     "text": [
      " 40%|████      | 801/2000 [00:13<00:20, 58.84it/s]"
     ]
    },
    {
     "name": "stdout",
     "output_type": "stream",
     "text": [
      "train_loss: 0.01476410310715437\n",
      "test_loss: 0.33065393567085266\n"
     ]
    },
    {
     "name": "stderr",
     "output_type": "stream",
     "text": [
      "\n"
     ]
    }
   ],
   "source": [
    "from tqdm import tqdm\n",
    "model=Model()\n",
    "torch.manual_seed(1)\n",
    "criterion=nn.BCELoss()\n",
    "losses=[]\n",
    "num_iterations=2000\n",
    "optimizer=optim.Adam(model.parameters(),lr=0.003)\n",
    "loss=0\n",
    "for i in tqdm(range(num_iterations)):\n",
    "    for x,y in trainloader:\n",
    "        yhat=model(x)\n",
    "        loss=criterion(yhat,y)\n",
    "        optimizer.zero_grad()\n",
    "        loss.backward()\n",
    "        optimizer.step()\n",
    "    losses.append(loss)\n",
    "    if loss<=0.02:\n",
    "        break\n",
    "print(f'train_loss: {losses[-1]}')\n",
    "for i,epoch in enumerate(testloader):\n",
    "    x,y=epoch\n",
    "    if i==0:\n",
    "        yhat=model(x)\n",
    "    else:\n",
    "        yhat=torch.cat((yhat,model(x)),dim=0)\n",
    "loss=criterion(yhat[357:715],Y[357:715])\n",
    "print(f'test_loss: {loss}')"
   ]
  },
  {
   "cell_type": "markdown",
   "id": "ac21bd6b",
   "metadata": {
    "papermill": {
     "duration": 0.051434,
     "end_time": "2023-01-05T06:46:05.435241",
     "exception": false,
     "start_time": "2023-01-05T06:46:05.383807",
     "status": "completed"
    },
    "tags": []
   },
   "source": [
    "# Submit the final results"
   ]
  },
  {
   "cell_type": "code",
   "execution_count": 13,
   "id": "7fa1c8d6",
   "metadata": {
    "execution": {
     "iopub.execute_input": "2023-01-05T06:46:05.540529Z",
     "iopub.status.busy": "2023-01-05T06:46:05.540021Z",
     "iopub.status.idle": "2023-01-05T06:46:05.563785Z",
     "shell.execute_reply": "2023-01-05T06:46:05.562495Z"
    },
    "papermill": {
     "duration": 0.078845,
     "end_time": "2023-01-05T06:46:05.566505",
     "exception": false,
     "start_time": "2023-01-05T06:46:05.487660",
     "status": "completed"
    },
    "tags": []
   },
   "outputs": [
    {
     "data": {
      "text/html": [
       "<div>\n",
       "<style scoped>\n",
       "    .dataframe tbody tr th:only-of-type {\n",
       "        vertical-align: middle;\n",
       "    }\n",
       "\n",
       "    .dataframe tbody tr th {\n",
       "        vertical-align: top;\n",
       "    }\n",
       "\n",
       "    .dataframe thead th {\n",
       "        text-align: right;\n",
       "    }\n",
       "</style>\n",
       "<table border=\"1\" class=\"dataframe\">\n",
       "  <thead>\n",
       "    <tr style=\"text-align: right;\">\n",
       "      <th></th>\n",
       "      <th>Survived</th>\n",
       "      <th>Predected_Survived</th>\n",
       "    </tr>\n",
       "  </thead>\n",
       "  <tbody>\n",
       "    <tr>\n",
       "      <th>0</th>\n",
       "      <td>0.0</td>\n",
       "      <td>5.151777e-02</td>\n",
       "    </tr>\n",
       "    <tr>\n",
       "      <th>1</th>\n",
       "      <td>1.0</td>\n",
       "      <td>1.000000e+00</td>\n",
       "    </tr>\n",
       "    <tr>\n",
       "      <th>2</th>\n",
       "      <td>1.0</td>\n",
       "      <td>4.294955e-01</td>\n",
       "    </tr>\n",
       "    <tr>\n",
       "      <th>3</th>\n",
       "      <td>1.0</td>\n",
       "      <td>1.000000e+00</td>\n",
       "    </tr>\n",
       "    <tr>\n",
       "      <th>4</th>\n",
       "      <td>0.0</td>\n",
       "      <td>1.583051e-02</td>\n",
       "    </tr>\n",
       "    <tr>\n",
       "      <th>...</th>\n",
       "      <td>...</td>\n",
       "      <td>...</td>\n",
       "    </tr>\n",
       "    <tr>\n",
       "      <th>709</th>\n",
       "      <td>0.0</td>\n",
       "      <td>1.776576e-08</td>\n",
       "    </tr>\n",
       "    <tr>\n",
       "      <th>710</th>\n",
       "      <td>0.0</td>\n",
       "      <td>5.575474e-03</td>\n",
       "    </tr>\n",
       "    <tr>\n",
       "      <th>711</th>\n",
       "      <td>1.0</td>\n",
       "      <td>1.000000e+00</td>\n",
       "    </tr>\n",
       "    <tr>\n",
       "      <th>712</th>\n",
       "      <td>1.0</td>\n",
       "      <td>9.999343e-01</td>\n",
       "    </tr>\n",
       "    <tr>\n",
       "      <th>713</th>\n",
       "      <td>0.0</td>\n",
       "      <td>2.316630e-02</td>\n",
       "    </tr>\n",
       "  </tbody>\n",
       "</table>\n",
       "<p>714 rows × 2 columns</p>\n",
       "</div>"
      ],
      "text/plain": [
       "     Survived  Predected_Survived\n",
       "0         0.0        5.151777e-02\n",
       "1         1.0        1.000000e+00\n",
       "2         1.0        4.294955e-01\n",
       "3         1.0        1.000000e+00\n",
       "4         0.0        1.583051e-02\n",
       "..        ...                 ...\n",
       "709       0.0        1.776576e-08\n",
       "710       0.0        5.575474e-03\n",
       "711       1.0        1.000000e+00\n",
       "712       1.0        9.999343e-01\n",
       "713       0.0        2.316630e-02\n",
       "\n",
       "[714 rows x 2 columns]"
      ]
     },
     "execution_count": 13,
     "metadata": {},
     "output_type": "execute_result"
    }
   ],
   "source": [
    "\n",
    "pd.DataFrame({'Survived': Y.reshape(-1).detach().numpy(), 'Predected_Survived': yhat.reshape(-1).detach().numpy()})"
   ]
  },
  {
   "cell_type": "code",
   "execution_count": 14,
   "id": "1469c1b0",
   "metadata": {
    "execution": {
     "iopub.execute_input": "2023-01-05T06:46:05.673701Z",
     "iopub.status.busy": "2023-01-05T06:46:05.673253Z",
     "iopub.status.idle": "2023-01-05T06:46:05.684725Z",
     "shell.execute_reply": "2023-01-05T06:46:05.683747Z"
    },
    "papermill": {
     "duration": 0.069509,
     "end_time": "2023-01-05T06:46:05.687321",
     "exception": false,
     "start_time": "2023-01-05T06:46:05.617812",
     "status": "completed"
    },
    "tags": []
   },
   "outputs": [],
   "source": [
    "my_submission = pd.DataFrame({'Survived': Y.reshape(-1).detach().numpy(), 'Predected_Survived': yhat.reshape(-1).detach().numpy()})\n",
    "my_submission.to_csv('submission.csv',index=False)"
   ]
  }
 ],
 "metadata": {
  "kernelspec": {
   "display_name": "Python 3",
   "language": "python",
   "name": "python3"
  },
  "language_info": {
   "codemirror_mode": {
    "name": "ipython",
    "version": 3
   },
   "file_extension": ".py",
   "mimetype": "text/x-python",
   "name": "python",
   "nbconvert_exporter": "python",
   "pygments_lexer": "ipython3",
   "version": "3.7.12"
  },
  "papermill": {
   "default_parameters": {},
   "duration": 408.34433,
   "end_time": "2023-01-05T06:46:06.661803",
   "environment_variables": {},
   "exception": null,
   "input_path": "__notebook__.ipynb",
   "output_path": "__notebook__.ipynb",
   "parameters": {},
   "start_time": "2023-01-05T06:39:18.317473",
   "version": "2.3.4"
  }
 },
 "nbformat": 4,
 "nbformat_minor": 5
}
