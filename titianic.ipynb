{
 "cells": [
  {
   "cell_type": "code",
   "execution_count": 1,
   "id": "c04a69d6",
   "metadata": {
    "_cell_guid": "b1076dfc-b9ad-4769-8c92-a6c4dae69d19",
    "_uuid": "8f2839f25d086af736a60e9eeb907d3b93b6e0e5",
    "execution": {
     "iopub.execute_input": "2023-01-06T04:16:13.738370Z",
     "iopub.status.busy": "2023-01-06T04:16:13.737889Z",
     "iopub.status.idle": "2023-01-06T04:16:13.752783Z",
     "shell.execute_reply": "2023-01-06T04:16:13.751587Z"
    },
    "papermill": {
     "duration": 0.027673,
     "end_time": "2023-01-06T04:16:13.755331",
     "exception": false,
     "start_time": "2023-01-06T04:16:13.727658",
     "status": "completed"
    },
    "tags": []
   },
   "outputs": [
    {
     "name": "stdout",
     "output_type": "stream",
     "text": [
      "/kaggle/input/titanic/train.csv\n",
      "/kaggle/input/titanic/test.csv\n",
      "/kaggle/input/titanic/gender_submission.csv\n"
     ]
    }
   ],
   "source": [
    "# This Python 3 environment comes with many helpful analytics libraries installed\n",
    "# It is defined by the kaggle/python Docker image: https://github.com/kaggle/docker-python\n",
    "# For example, here's several helpful packages to load\n",
    "\n",
    "import numpy as np # linear algebra\n",
    "import pandas as pd # data processing, CSV file I/O (e.g. pd.read_csv)\n",
    "\n",
    "# Input data files are available in the read-only \"../input/\" directory\n",
    "# For example, running this (by clicking run or pressing Shift+Enter) will list all files under the input directory\n",
    "\n",
    "import os\n",
    "for dirname, _, filenames in os.walk('/kaggle/input'):\n",
    "    for filename in filenames:\n",
    "        print(os.path.join(dirname, filename))\n",
    "\n",
    "# You can write up to 20GB to the current directory (/kaggle/working/) that gets preserved as output when you create a version using \"Save & Run All\" \n",
    "# You can also write temporary files to /kaggle/temp/, but they won't be saved outside of the current session"
   ]
  },
  {
   "cell_type": "markdown",
   "id": "638ab9c0",
   "metadata": {
    "papermill": {
     "duration": 0.006286,
     "end_time": "2023-01-06T04:16:13.768520",
     "exception": false,
     "start_time": "2023-01-06T04:16:13.762234",
     "status": "completed"
    },
    "tags": []
   },
   "source": [
    "# Import necessery libraries"
   ]
  },
  {
   "cell_type": "code",
   "execution_count": 2,
   "id": "9f5b2805",
   "metadata": {
    "execution": {
     "iopub.execute_input": "2023-01-06T04:16:13.783780Z",
     "iopub.status.busy": "2023-01-06T04:16:13.783051Z",
     "iopub.status.idle": "2023-01-06T04:16:15.602232Z",
     "shell.execute_reply": "2023-01-06T04:16:15.601131Z"
    },
    "papermill": {
     "duration": 1.829914,
     "end_time": "2023-01-06T04:16:15.604912",
     "exception": false,
     "start_time": "2023-01-06T04:16:13.774998",
     "status": "completed"
    },
    "tags": []
   },
   "outputs": [],
   "source": [
    "import os\n",
    "import torch\n",
    "from torch import nn,optim\n",
    "from torch.utils.data import Dataset,DataLoader\n",
    "import matplotlib.pyplot as plt"
   ]
  },
  {
   "cell_type": "markdown",
   "id": "4654ebda",
   "metadata": {
    "papermill": {
     "duration": 0.006382,
     "end_time": "2023-01-06T04:16:15.619579",
     "exception": false,
     "start_time": "2023-01-06T04:16:15.613197",
     "status": "completed"
    },
    "tags": []
   },
   "source": [
    "# Data PreProcessing"
   ]
  },
  {
   "cell_type": "code",
   "execution_count": 3,
   "id": "185a7de1",
   "metadata": {
    "execution": {
     "iopub.execute_input": "2023-01-06T04:16:15.634413Z",
     "iopub.status.busy": "2023-01-06T04:16:15.633853Z",
     "iopub.status.idle": "2023-01-06T04:16:15.681705Z",
     "shell.execute_reply": "2023-01-06T04:16:15.680680Z"
    },
    "papermill": {
     "duration": 0.058456,
     "end_time": "2023-01-06T04:16:15.684331",
     "exception": false,
     "start_time": "2023-01-06T04:16:15.625875",
     "status": "completed"
    },
    "tags": []
   },
   "outputs": [],
   "source": [
    "from torch.utils.data import TensorDataset,DataLoader\n",
    "directory=\"/kaggle/input/titanic/\"\n",
    "csv_file='train.csv'\n",
    "csv_path=os.path.join(directory,csv_file)\n",
    "train_data=pd.read_csv(csv_path)\n",
    "train=train_data.drop(['PassengerId','Name','Ticket','Cabin'],axis=1)\n",
    "train.dropna(axis=0, inplace=True)\n",
    "train= pd.get_dummies(train,columns=['Pclass','Sex','SibSp','Parch','Embarked'])\n",
    "X=train.drop(['Survived'],axis=1)\n",
    "X=torch.tensor(X.values.astype(np.float32))\n",
    "Y=torch.tensor(train['Survived'].values.astype(np.float32))\n",
    "Y=Y.reshape([-1, 1])\n",
    "dataset=TensorDataset(X,Y)\n",
    "trainloader=DataLoader(dataset,batch_size=100,shuffle=False)"
   ]
  },
  {
   "cell_type": "markdown",
   "id": "600b42b1",
   "metadata": {
    "papermill": {
     "duration": 0.006035,
     "end_time": "2023-01-06T04:16:15.696896",
     "exception": false,
     "start_time": "2023-01-06T04:16:15.690861",
     "status": "completed"
    },
    "tags": []
   },
   "source": [
    "# Defing The NeuralNetwork Class "
   ]
  },
  {
   "cell_type": "code",
   "execution_count": 4,
   "id": "5791581a",
   "metadata": {
    "execution": {
     "iopub.execute_input": "2023-01-06T04:16:15.711497Z",
     "iopub.status.busy": "2023-01-06T04:16:15.711078Z",
     "iopub.status.idle": "2023-01-06T04:16:15.718578Z",
     "shell.execute_reply": "2023-01-06T04:16:15.717397Z"
    },
    "papermill": {
     "duration": 0.017637,
     "end_time": "2023-01-06T04:16:15.720971",
     "exception": false,
     "start_time": "2023-01-06T04:16:15.703334",
     "status": "completed"
    },
    "tags": []
   },
   "outputs": [],
   "source": [
    "class Model(nn.Module):\n",
    "    def __init__(self):\n",
    "        super(Model,self).__init__()\n",
    "        self.NN=nn.Sequential(nn.Linear(23,50),nn.Tanh(),\n",
    "                              nn.Linear(50,100),nn.Tanh(),\n",
    "                              nn.Linear(100,10),nn.Tanh(),\n",
    "                              nn.Linear(10,1),nn.Sigmoid())\n",
    "    def forward(self,x):\n",
    "        yhat=self.NN(torch.Tensor(x))\n",
    "        return yhat\n"
   ]
  },
  {
   "cell_type": "markdown",
   "id": "c2b5ab9b",
   "metadata": {
    "papermill": {
     "duration": 0.007815,
     "end_time": "2023-01-06T04:16:15.735275",
     "exception": false,
     "start_time": "2023-01-06T04:16:15.727460",
     "status": "completed"
    },
    "tags": []
   },
   "source": [
    "# Training the first virsion of the model"
   ]
  },
  {
   "cell_type": "code",
   "execution_count": 5,
   "id": "9fe5bbb6",
   "metadata": {
    "execution": {
     "iopub.execute_input": "2023-01-06T04:16:15.749710Z",
     "iopub.status.busy": "2023-01-06T04:16:15.749294Z",
     "iopub.status.idle": "2023-01-06T04:16:43.448021Z",
     "shell.execute_reply": "2023-01-06T04:16:43.446921Z"
    },
    "papermill": {
     "duration": 27.709041,
     "end_time": "2023-01-06T04:16:43.450748",
     "exception": false,
     "start_time": "2023-01-06T04:16:15.741707",
     "status": "completed"
    },
    "tags": []
   },
   "outputs": [
    {
     "name": "stderr",
     "output_type": "stream",
     "text": [
      "100%|██████████| 2000/2000 [00:27<00:00, 72.92it/s]\n"
     ]
    },
    {
     "name": "stdout",
     "output_type": "stream",
     "text": [
      "tensor(0.0413, grad_fn=<BinaryCrossEntropyBackward0>)\n"
     ]
    },
    {
     "data": {
      "image/png": "[encoded data removed]",
      "text/plain": [
       "<Figure size 432x288 with 1 Axes>"
      ]
     },
     "metadata": {
      "needs_background": "light"
     },
     "output_type": "display_data"
    }
   ],
   "source": [
    "from tqdm import tqdm\n",
    "model=Model()\n",
    "torch.manual_seed(1)\n",
    "criterion=nn.BCELoss()\n",
    "losses=[]\n",
    "num_iterations=2000\n",
    "optimizer=optim.Adam(model.parameters(),lr=0.005)\n",
    "loss=0\n",
    "for i in tqdm(range(num_iterations)):\n",
    "    for x,y in trainloader:\n",
    "        yhat=model(x)\n",
    "        loss=criterion(yhat,y)\n",
    "        optimizer.zero_grad()\n",
    "        loss.backward()\n",
    "        optimizer.step()\n",
    "    losses.append(loss)\n",
    "    if loss<=0.005:\n",
    "        break\n",
    "plt.plot(torch.tensor(losses).numpy())\n",
    "plt.xlabel('num_iterations')\n",
    "print(losses[-1])"
   ]
  },
  {
   "cell_type": "markdown",
   "id": "de7bc74c",
   "metadata": {
    "papermill": {
     "duration": 0.022113,
     "end_time": "2023-01-06T04:16:43.495866",
     "exception": false,
     "start_time": "2023-01-06T04:16:43.473753",
     "status": "completed"
    },
    "tags": []
   },
   "source": [
    "# Processing the test data"
   ]
  },
  {
   "cell_type": "code",
   "execution_count": 6,
   "id": "fd1d4831",
   "metadata": {
    "execution": {
     "iopub.execute_input": "2023-01-06T04:16:43.543449Z",
     "iopub.status.busy": "2023-01-06T04:16:43.542638Z",
     "iopub.status.idle": "2023-01-06T04:16:43.583185Z",
     "shell.execute_reply": "2023-01-06T04:16:43.582007Z"
    },
    "papermill": {
     "duration": 0.067071,
     "end_time": "2023-01-06T04:16:43.586043",
     "exception": false,
     "start_time": "2023-01-06T04:16:43.518972",
     "status": "completed"
    },
    "tags": []
   },
   "outputs": [],
   "source": [
    "csv_file='test.csv'\n",
    "csv_path=os.path.join(directory,csv_file)\n",
    "test_data=pd.read_csv(csv_path)\n",
    "test=train_data.drop(['Name','Ticket','Cabin'],axis=1)\n",
    "csv_file='gender_submission.csv'\n",
    "csv_path=os.path.join(directory,csv_file)\n",
    "test_labels=pd.read_csv(csv_path)\n",
    "test=pd.concat([test,test_labels])\n",
    "test= pd.get_dummies(test,columns=[ 'Pclass','Sex','SibSp','Parch','Embarked'])\n",
    "test=test.drop('SibSp_8.0',axis=1)\n",
    "test=test.dropna(axis=0)\n",
    "X=test.drop(['Survived','PassengerId'],axis=1)\n",
    "X=torch.tensor(X.values.astype(np.float32))\n",
    "Y=torch.tensor(test['Survived'].values.astype(np.float32))\n",
    "Y=Y.reshape([-1, 1])\n",
    "dataset=TensorDataset(X,Y)\n",
    "testloader=DataLoader(dataset,batch_size=100,shuffle=False)"
   ]
  },
  {
   "cell_type": "markdown",
   "id": "cc5bc5f2",
   "metadata": {
    "papermill": {
     "duration": 0.022734,
     "end_time": "2023-01-06T04:16:43.631041",
     "exception": false,
     "start_time": "2023-01-06T04:16:43.608307",
     "status": "completed"
    },
    "tags": []
   },
   "source": [
    "# Testing the model on the validation dataset"
   ]
  },
  {
   "cell_type": "markdown",
   "id": "326143d4",
   "metadata": {
    "papermill": {
     "duration": 0.022131,
     "end_time": "2023-01-06T04:16:43.676422",
     "exception": false,
     "start_time": "2023-01-06T04:16:43.654291",
     "status": "completed"
    },
    "tags": []
   },
   "source": [
    "**note we took half of thee testing data as a validation set"
   ]
  },
  {
   "cell_type": "code",
   "execution_count": 7,
   "id": "6d797a85",
   "metadata": {
    "execution": {
     "iopub.execute_input": "2023-01-06T04:16:43.723416Z",
     "iopub.status.busy": "2023-01-06T04:16:43.722554Z",
     "iopub.status.idle": "2023-01-06T04:16:43.740922Z",
     "shell.execute_reply": "2023-01-06T04:16:43.739233Z"
    },
    "papermill": {
     "duration": 0.044958,
     "end_time": "2023-01-06T04:16:43.743626",
     "exception": false,
     "start_time": "2023-01-06T04:16:43.698668",
     "status": "completed"
    },
    "tags": []
   },
   "outputs": [
    {
     "name": "stdout",
     "output_type": "stream",
     "text": [
      "tensor(0.1190, grad_fn=<BinaryCrossEntropyBackward0>)\n"
     ]
    }
   ],
   "source": [
    "for i,epoch in enumerate(testloader):\n",
    "    x,y=epoch\n",
    "    if i==0:\n",
    "        yhat=model(x)\n",
    "    else:\n",
    "        yhat=torch.cat((yhat,model(x)),dim=0)\n",
    "loss=criterion(yhat[357:715],Y[357:715])\n",
    "print(loss)\n"
   ]
  },
  {
   "cell_type": "markdown",
   "id": "4d0f233b",
   "metadata": {
    "papermill": {
     "duration": 0.022199,
     "end_time": "2023-01-06T04:16:43.788133",
     "exception": false,
     "start_time": "2023-01-06T04:16:43.765934",
     "status": "completed"
    },
    "tags": []
   },
   "source": [
    "# Improving the model by changing the Hyperparameters & testing"
   ]
  },
  {
   "cell_type": "markdown",
   "id": "2488d39b",
   "metadata": {
    "papermill": {
     "duration": 0.022533,
     "end_time": "2023-01-06T04:16:43.833526",
     "exception": false,
     "start_time": "2023-01-06T04:16:43.810993",
     "status": "completed"
    },
    "tags": []
   },
   "source": [
    "**1) Using Adamax Optimizer**"
   ]
  },
  {
   "cell_type": "code",
   "execution_count": 8,
   "id": "a5fd22dd",
   "metadata": {
    "execution": {
     "iopub.execute_input": "2023-01-06T04:16:43.879997Z",
     "iopub.status.busy": "2023-01-06T04:16:43.879615Z",
     "iopub.status.idle": "2023-01-06T04:17:13.092439Z",
     "shell.execute_reply": "2023-01-06T04:17:13.091229Z"
    },
    "papermill": {
     "duration": 29.239161,
     "end_time": "2023-01-06T04:17:13.094917",
     "exception": false,
     "start_time": "2023-01-06T04:16:43.855756",
     "status": "completed"
    },
    "tags": []
   },
   "outputs": [
    {
     "name": "stderr",
     "output_type": "stream",
     "text": [
      "100%|██████████| 2000/2000 [00:28<00:00, 69.06it/s]\n"
     ]
    },
    {
     "name": "stdout",
     "output_type": "stream",
     "text": [
      "tensor(0.0508, grad_fn=<BinaryCrossEntropyBackward0>)\n",
      "tensor(0.2241, grad_fn=<BinaryCrossEntropyBackward0>)\n"
     ]
    },
    {
     "data": {
      "image/png": "[encoded data removed]",
      "text/plain": [
       "<Figure size 432x288 with 1 Axes>"
      ]
     },
     "metadata": {
      "needs_background": "light"
     },
     "output_type": "display_data"
    }
   ],
   "source": [
    "from tqdm import tqdm\n",
    "model=Model()\n",
    "torch.manual_seed(1)\n",
    "criterion=nn.BCELoss()\n",
    "losses=[]\n",
    "num_iterations=2000\n",
    "optimizer=optim.Adamax(model.parameters(),lr=0.005)\n",
    "loss=0\n",
    "for i in tqdm(range(num_iterations)):\n",
    "    for x,y in trainloader:\n",
    "        yhat=model(x)\n",
    "        loss=criterion(yhat,y)\n",
    "        optimizer.zero_grad()\n",
    "        loss.backward()\n",
    "        optimizer.step()\n",
    "    losses.append(loss)\n",
    "    if loss<=0.02:\n",
    "        break\n",
    "plt.plot(torch.tensor(losses).numpy())\n",
    "plt.xlabel('num_iterations')\n",
    "print(losses[-1])\n",
    "for i,epoch in enumerate(testloader):\n",
    "    x,y=epoch\n",
    "    if i==0:\n",
    "        yhat=model(x)\n",
    "    else:\n",
    "        yhat=torch.cat((yhat,model(x)),dim=0)\n",
    "loss=criterion(yhat[357:715],Y[357:715])\n",
    "print(loss)"
   ]
  },
  {
   "cell_type": "markdown",
   "id": "69206b91",
   "metadata": {
    "papermill": {
     "duration": 0.037917,
     "end_time": "2023-01-06T04:17:13.171950",
     "exception": false,
     "start_time": "2023-01-06T04:17:13.134033",
     "status": "completed"
    },
    "tags": []
   },
   "source": [
    "**2) Using AdamW Optimizer**"
   ]
  },
  {
   "cell_type": "code",
   "execution_count": 9,
   "id": "5c903852",
   "metadata": {
    "execution": {
     "iopub.execute_input": "2023-01-06T04:17:13.250241Z",
     "iopub.status.busy": "2023-01-06T04:17:13.249776Z",
     "iopub.status.idle": "2023-01-06T04:17:28.490854Z",
     "shell.execute_reply": "2023-01-06T04:17:28.489236Z"
    },
    "papermill": {
     "duration": 15.2833,
     "end_time": "2023-01-06T04:17:28.493315",
     "exception": false,
     "start_time": "2023-01-06T04:17:13.210015",
     "status": "completed"
    },
    "tags": []
   },
   "outputs": [
    {
     "name": "stderr",
     "output_type": "stream",
     "text": [
      " 53%|█████▎    | 1064/2000 [00:14<00:13, 70.95it/s]\n"
     ]
    },
    {
     "name": "stdout",
     "output_type": "stream",
     "text": [
      "tensor(0.0183, grad_fn=<BinaryCrossEntropyBackward0>)\n",
      "tensor(0.2023, grad_fn=<BinaryCrossEntropyBackward0>)\n"
     ]
    },
    {
     "data": {
      "image/png": "[encoded data removed]",
      "text/plain": [
       "<Figure size 432x288 with 1 Axes>"
      ]
     },
     "metadata": {
      "needs_background": "light"
     },
     "output_type": "display_data"
    }
   ],
   "source": [
    "from tqdm import tqdm\n",
    "model=Model()\n",
    "torch.manual_seed(1)\n",
    "criterion=nn.BCELoss()\n",
    "losses=[]\n",
    "num_iterations=2000\n",
    "optimizer=optim.AdamW(model.parameters(),lr=0.005)\n",
    "loss=0\n",
    "lrs = []\n",
    "#lambda1 = lambda epoch: 0.1 ** epoch\n",
    "#scheduler = torch.optim.lr_scheduler.LambdaLR(optimizer, lr_lambda=lambda1)\n",
    "for i in tqdm(range(num_iterations)):\n",
    "    for x,y in trainloader:\n",
    "        yhat=model(x)\n",
    "        loss=criterion(yhat,y)\n",
    "        optimizer.zero_grad()\n",
    "        loss.backward()\n",
    "        optimizer.step()\n",
    "        #scheduler.step()\n",
    "        #lrs.append(optimizer.param_groups[0][\"lr\"])\n",
    "    losses.append(loss)\n",
    "    if loss<=0.02:\n",
    "        break\n",
    "plt.plot(torch.tensor(losses).numpy())\n",
    "plt.xlabel('num_iterations')\n",
    "print(losses[-1])\n",
    "for i,epoch in enumerate(testloader):\n",
    "    x,y=epoch\n",
    "    if i==0:\n",
    "        yhat=model(x)\n",
    "    else:\n",
    "        yhat=torch.cat((yhat,model(x)),dim=0)\n",
    "loss=criterion(yhat[357:715],Y[357:715])\n",
    "print(loss)"
   ]
  },
  {
   "cell_type": "markdown",
   "id": "6b08edad",
   "metadata": {
    "papermill": {
     "duration": 0.046186,
     "end_time": "2023-01-06T04:17:28.586897",
     "exception": false,
     "start_time": "2023-01-06T04:17:28.540711",
     "status": "completed"
    },
    "tags": []
   },
   "source": [
    "Adam was the best optimizer when applying on the validation data"
   ]
  },
  {
   "cell_type": "markdown",
   "id": "215c49ab",
   "metadata": {
    "papermill": {
     "duration": 0.046286,
     "end_time": "2023-01-06T04:17:28.679353",
     "exception": false,
     "start_time": "2023-01-06T04:17:28.633067",
     "status": "completed"
    },
    "tags": []
   },
   "source": [
    "**3) Trying different learning rates to select the best one**"
   ]
  },
  {
   "cell_type": "code",
   "execution_count": 10,
   "id": "d044faca",
   "metadata": {
    "execution": {
     "iopub.execute_input": "2023-01-06T04:17:28.776259Z",
     "iopub.status.busy": "2023-01-06T04:17:28.775463Z",
     "iopub.status.idle": "2023-01-06T04:22:54.025016Z",
     "shell.execute_reply": "2023-01-06T04:22:54.023884Z"
    },
    "papermill": {
     "duration": 325.301254,
     "end_time": "2023-01-06T04:22:54.027643",
     "exception": false,
     "start_time": "2023-01-06T04:17:28.726389",
     "status": "completed"
    },
    "tags": []
   },
   "outputs": [
    {
     "name": "stdout",
     "output_type": "stream",
     "text": [
      "lr:0.001,trainloss:0.05838894471526146,validationloss:0.21138763427734375\n",
      "lr:0.002,trainloss:0.05384344235062599,validationloss:0.19186806678771973\n",
      "lr:0.003,trainloss:0.019529156386852264,validationloss:0.16083458065986633\n",
      "lr:0.004,trainloss:0.018486076965928078,validationloss:0.13836494088172913\n",
      "lr:0.005,trainloss:0.018757423385977745,validationloss:0.1851380467414856\n",
      "lr:0.006,trainloss:0.01607462391257286,validationloss:0.217420756816864\n",
      "lr:0.007,trainloss:0.014395124278962612,validationloss:0.17405104637145996\n",
      "lr:0.008,trainloss:0.01764076203107834,validationloss:0.1992901712656021\n",
      "lr:0.009,trainloss:0.019459424540400505,validationloss:0.18988037109375\n",
      "lr:0.01,trainloss:0.01846892572939396,validationloss:0.263139009475708\n",
      "lr:0.02,trainloss:0.37165772914886475,validationloss:0.5136882662773132\n",
      "lr:0.03,trainloss:0.38677287101745605,validationloss:0.5446743369102478\n",
      "lr:0.04,trainloss:0.44216278195381165,validationloss:0.49443861842155457\n",
      "lr:0.05,trainloss:0.44262489676475525,validationloss:0.49544334411621094\n",
      "lr:0.06,trainloss:0.4431488811969757,validationloss:0.4965374171733856\n",
      "lr:0.07,trainloss:0.4437381327152252,validationloss:0.49772053956985474\n",
      "lr:0.08,trainloss:0.44439563155174255,validationloss:0.4989911615848541\n",
      "lr:0.09,trainloss:0.44512486457824707,validationloss:0.5003491640090942\n"
     ]
    }
   ],
   "source": [
    "from tqdm import tqdm\n",
    "model=Model()\n",
    "torch.manual_seed(1)\n",
    "criterion=nn.BCELoss()\n",
    "num_iterations=2000\n",
    "\n",
    "\n",
    "lrs = [0.001,0.002,0.003,.004,0.005,0.006,0.007,0.008,0.009,0.01,0.02,0.03,\n",
    "       0.04,0.05,0.06,0.07,0.08,0.09]\n",
    "trainlosses=[]\n",
    "validationlosses=[]\n",
    "for lr in lrs:\n",
    "    trainloss=0\n",
    "    optimizer=optim.Adam(model.parameters(),lr=lr)\n",
    "    for i in range(num_iterations):\n",
    "        for x,y in trainloader:\n",
    "            yhat=model(x)\n",
    "            trainloss=criterion(yhat,y)\n",
    "            optimizer.zero_grad()\n",
    "            trainloss.backward()\n",
    "            optimizer.step()\n",
    "        if trainloss<=0.02:\n",
    "            break\n",
    "    trainlosses.append(trainloss)   \n",
    "    for j,epoch in enumerate(testloader):\n",
    "        x,y=epoch\n",
    "        if j==0:\n",
    "            yhat=model(x)\n",
    "        else:\n",
    "            yhat=torch.cat((yhat,model(x)),dim=0)\n",
    "    validationloss=criterion(yhat[0:357],Y[0:357])\n",
    "    validationlosses.append(validationloss)\n",
    "    print(f'lr:{lr},trainloss:{trainlosses[-1]},validationloss:{validationloss}')\n",
    "\n",
    "    "
   ]
  },
  {
   "cell_type": "code",
   "execution_count": 11,
   "id": "7fd57744",
   "metadata": {
    "execution": {
     "iopub.execute_input": "2023-01-06T04:22:54.125775Z",
     "iopub.status.busy": "2023-01-06T04:22:54.125320Z",
     "iopub.status.idle": "2023-01-06T04:22:54.450475Z",
     "shell.execute_reply": "2023-01-06T04:22:54.449484Z"
    },
    "papermill": {
     "duration": 0.377286,
     "end_time": "2023-01-06T04:22:54.452978",
     "exception": false,
     "start_time": "2023-01-06T04:22:54.075692",
     "status": "completed"
    },
    "tags": []
   },
   "outputs": [
    {
     "data": {
      "image/png": "[encoded data removed]",
      "text/plain": [
       "<Figure size 1296x720 with 1 Axes>"
      ]
     },
     "metadata": {
      "needs_background": "light"
     },
     "output_type": "display_data"
    }
   ],
   "source": [
    "plt.figure(figsize=(18,10))\n",
    "plt.plot(list(map(str,lrs)),torch.tensor(trainlosses).detach().numpy())\n",
    "plt.plot(list(map(str,lrs)),torch.tensor(validationlosses).detach().numpy())\n",
    "plt.xlabel('learning rate')\n",
    "plt.ylabel('train vs. test loss')\n",
    "plt.grid()"
   ]
  },
  {
   "cell_type": "markdown",
   "id": "4464c61f",
   "metadata": {
    "papermill": {
     "duration": 0.048718,
     "end_time": "2023-01-06T04:22:54.551420",
     "exception": false,
     "start_time": "2023-01-06T04:22:54.502702",
     "status": "completed"
    },
    "tags": []
   },
   "source": [
    "The best learning rate for the validation data was found on lr=0.005"
   ]
  },
  {
   "cell_type": "markdown",
   "id": "65c7dd53",
   "metadata": {
    "papermill": {
     "duration": 0.04837,
     "end_time": "2023-01-06T04:22:54.648959",
     "exception": false,
     "start_time": "2023-01-06T04:22:54.600589",
     "status": "completed"
    },
    "tags": []
   },
   "source": [
    "# Training the model using the selected Hyperparameters"
   ]
  },
  {
   "cell_type": "code",
   "execution_count": 12,
   "id": "82404862",
   "metadata": {
    "execution": {
     "iopub.execute_input": "2023-01-06T04:22:54.750853Z",
     "iopub.status.busy": "2023-01-06T04:22:54.750034Z",
     "iopub.status.idle": "2023-01-06T04:23:22.906724Z",
     "shell.execute_reply": "2023-01-06T04:23:22.905078Z"
    },
    "papermill": {
     "duration": 28.210886,
     "end_time": "2023-01-06T04:23:22.909402",
     "exception": false,
     "start_time": "2023-01-06T04:22:54.698516",
     "status": "completed"
    },
    "tags": []
   },
   "outputs": [
    {
     "name": "stderr",
     "output_type": "stream",
     "text": [
      "100%|██████████| 2000/2000 [00:28<00:00, 71.14it/s]"
     ]
    },
    {
     "name": "stdout",
     "output_type": "stream",
     "text": [
      "train_loss: 0.03499177470803261\n",
      "test_loss: 0.09138251841068268, Test_accurecy =0.9537814855575562\n"
     ]
    },
    {
     "name": "stderr",
     "output_type": "stream",
     "text": [
      "\n"
     ]
    }
   ],
   "source": [
    "from tqdm import tqdm\n",
    "model=Model()\n",
    "torch.manual_seed(1)\n",
    "criterion=nn.BCELoss()\n",
    "losses=[]\n",
    "num_iterations=2000\n",
    "optimizer=optim.Adam(model.parameters(),lr=0.004)\n",
    "loss=0\n",
    "for i in tqdm(range(num_iterations)):\n",
    "    for x,y in trainloader:\n",
    "        yhat=model(x)\n",
    "        loss=criterion(yhat,y)\n",
    "        optimizer.zero_grad()\n",
    "        loss.backward()\n",
    "        optimizer.step()\n",
    "    losses.append(loss)\n",
    "    if loss<=0.02:\n",
    "        break\n",
    "print(f'train_loss: {losses[-1]}')\n",
    "for i,epoch in enumerate(testloader):\n",
    "    x,y=epoch\n",
    "    if i==0:\n",
    "        yhat=model(x)\n",
    "    else:\n",
    "        yhat=torch.cat((yhat,model(x)),dim=0)\n",
    "loss=criterion(yhat[357:715],Y[357:715])\n",
    "test_acc = torch.sum(torch.round(yhat) == Y)/len(yhat)\n",
    "print(f'test_loss: {loss}, Test_accurecy ={test_acc}')"
   ]
  },
  {
   "cell_type": "markdown",
   "id": "92913bb1",
   "metadata": {
    "papermill": {
     "duration": 0.063035,
     "end_time": "2023-01-06T04:23:23.037988",
     "exception": false,
     "start_time": "2023-01-06T04:23:22.974953",
     "status": "completed"
    },
    "tags": []
   },
   "source": [
    "# Submit the final results"
   ]
  },
  {
   "cell_type": "code",
   "execution_count": 13,
   "id": "bde88d08",
   "metadata": {
    "execution": {
     "iopub.execute_input": "2023-01-06T04:23:23.169069Z",
     "iopub.status.busy": "2023-01-06T04:23:23.168163Z",
     "iopub.status.idle": "2023-01-06T04:23:23.175811Z",
     "shell.execute_reply": "2023-01-06T04:23:23.174613Z"
    },
    "papermill": {
     "duration": 0.076828,
     "end_time": "2023-01-06T04:23:23.178754",
     "exception": false,
     "start_time": "2023-01-06T04:23:23.101926",
     "status": "completed"
    },
    "tags": []
   },
   "outputs": [
    {
     "data": {
      "text/plain": [
       "torch.Size([714, 1])"
      ]
     },
     "execution_count": 13,
     "metadata": {},
     "output_type": "execute_result"
    }
   ],
   "source": [
    "yhat.shape\n"
   ]
  },
  {
   "cell_type": "code",
   "execution_count": 14,
   "id": "ac2fa7e7",
   "metadata": {
    "execution": {
     "iopub.execute_input": "2023-01-06T04:23:23.309511Z",
     "iopub.status.busy": "2023-01-06T04:23:23.309118Z",
     "iopub.status.idle": "2023-01-06T04:23:23.322155Z",
     "shell.execute_reply": "2023-01-06T04:23:23.321078Z"
    },
    "papermill": {
     "duration": 0.081518,
     "end_time": "2023-01-06T04:23:23.324762",
     "exception": false,
     "start_time": "2023-01-06T04:23:23.243244",
     "status": "completed"
    },
    "tags": []
   },
   "outputs": [],
   "source": [
    "my_submission = pd.DataFrame({'PassengerId': test['PassengerId'], 'Predected_Survived': yhat.reshape(-1).detach().numpy()})\n",
    "my_submission.to_csv('submission.csv',index=False)"
   ]
  }
 ],
 "metadata": {
  "kernelspec": {
   "display_name": "Python 3",
   "language": "python",
   "name": "python3"
  },
  "language_info": {
   "codemirror_mode": {
    "name": "ipython",
    "version": 3
   },
   "file_extension": ".py",
   "mimetype": "text/x-python",
   "name": "python",
   "nbconvert_exporter": "python",
   "pygments_lexer": "ipython3",
   "version": "3.7.12"
  },
  "papermill": {
   "default_parameters": {},
   "duration": 440.620179,
   "end_time": "2023-01-06T04:23:24.312885",
   "environment_variables": {},
   "exception": null,
   "input_path": "__notebook__.ipynb",
   "output_path": "__notebook__.ipynb",
   "parameters": {},
   "start_time": "2023-01-06T04:16:03.692706",
   "version": "2.3.4"
  }
 },
 "nbformat": 4,
 "nbformat_minor": 5
}
